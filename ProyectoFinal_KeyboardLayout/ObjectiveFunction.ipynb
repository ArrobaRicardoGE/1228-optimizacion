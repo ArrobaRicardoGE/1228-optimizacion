{
 "cells": [
  {
   "cell_type": "code",
   "execution_count": null,
   "metadata": {},
   "outputs": [],
   "source": []
  },
  {
   "cell_type": "code",
   "execution_count": 16,
   "metadata": {},
   "outputs": [],
   "source": [
    "FINGERS_NAME = ['pinky', 'ring', 'middle', 'index', 'thumb', 'none', 'unknown']\n",
    "FINGERS = [0,1,2,3,4,5,6]\n",
    "FINGERS_WEIGHT = [3,2, 2, 1, 0, 0, 'Unknown']\n",
    "HAND = ['left', 'right', 'none', 'Unknown']\n",
    "COLUMNS = [0,1,2,3,'Unknown']\n",
    "COLUMNS_WEIGHT = [2,1,0,1.5,'Unknown']\n",
    "MOVEMENT = [0, 1, 2, 3, 'Unknown']"
   ]
  },
  {
   "cell_type": "code",
   "execution_count": 17,
   "metadata": {},
   "outputs": [],
   "source": [
    "def GetFinger(index):\n",
    "    if(index >= 0 and index <= 9):\n",
    "        return FINGERS[0]\n",
    "    if(index >= 10 and index <= 17):\n",
    "        return FINGERS[1]\n",
    "    if(index >= 18 and index <= 25):\n",
    "        return FINGERS[2]\n",
    "    if(index >= 26 and index <= 41):\n",
    "        return FINGERS[3]\n",
    "    if(index >= 42 and index <= 55):\n",
    "        return FINGERS[3]\n",
    "    if(index >= 56 and index <= 63):\n",
    "        return FINGERS[2]\n",
    "    if(index >= 64 and index <= 71):\n",
    "        return FINGERS[1]\n",
    "    if(index >= 72 and index <= 93):\n",
    "        return FINGERS[0]\n",
    "    return FINGERS[-1]"
   ]
  },
  {
   "cell_type": "code",
   "execution_count": 18,
   "metadata": {},
   "outputs": [],
   "source": [
    "def GetHand(index):\n",
    "    if(index >= 0 and index <= 41):\n",
    "        return HAND[0]\n",
    "    if(index >= 92 and index <= 93):\n",
    "        return HAND[0]\n",
    "    if(index >= 42 and index <= 91):\n",
    "        return HAND[1]\n",
    "    return HAND[-1]\n"
   ]
  },
  {
   "cell_type": "code",
   "execution_count": 19,
   "metadata": {},
   "outputs": [],
   "source": [
    "def ShiftHand(index):\n",
    "    if(index%2 == 0):\n",
    "        return HAND[2]\n",
    "    if(GetHand(index) == HAND[0]):\n",
    "        return HAND[1]\n",
    "    if(GetHand(index) == HAND[1]):\n",
    "        return HAND[0]\n",
    "    return HAND[-1]"
   ]
  },
  {
   "cell_type": "code",
   "execution_count": 20,
   "metadata": {},
   "outputs": [],
   "source": [
    "def Column(index):\n",
    "    if(index <= 85):\n",
    "        ii = index%8\n",
    "        if(ii == 0 or ii == 1):\n",
    "            return COLUMNS[0]\n",
    "        if(ii == 2 or ii == 3):\n",
    "            return COLUMNS[1]\n",
    "        if(ii == 4 or ii == 5):\n",
    "            return COLUMNS[2]\n",
    "        if(ii == 6 or ii == 7):\n",
    "            return COLUMNS[3]\n",
    "    \n",
    "    if(index > 85):\n",
    "        ii = index%8\n",
    "        if(ii == 0 or ii == 1):\n",
    "            return COLUMNS[1]\n",
    "        if(ii == 2 or ii == 3):\n",
    "            return COLUMNS[1]\n",
    "        if(ii == 4 or ii == 5):\n",
    "            return COLUMNS[0]\n",
    "        if(ii == 6 or ii == 7):\n",
    "            return COLUMNS[0]\n",
    "    return COLUMNS[-1]\n",
    "        "
   ]
  },
  {
   "cell_type": "code",
   "execution_count": 23,
   "metadata": {},
   "outputs": [],
   "source": [
    "def LateralMovement(index):\n",
    "    index = index - (index%2)\n",
    "    if(index == 0):\n",
    "        return MOVEMENT[1]\n",
    "    if(index == 92):\n",
    "        return MOVEMENT[2]\n",
    "    if(index == 90):\n",
    "        return MOVEMENT[3]\n",
    "    if(index >= 86 and index <= 88):\n",
    "        return MOVEMENT[2]\n",
    "    if(index >= 80 and index <= 84):\n",
    "        return MOVEMENT[1]\n",
    "    if(index >= 34 and index <= 46):\n",
    "        return MOVEMENT[1]"
   ]
  },
  {
   "cell_type": "code",
   "execution_count": 24,
   "metadata": {},
   "outputs": [],
   "source": [
    "def WeightIndex(index):\n",
    "    assert (len(index) >= 93)\n",
    "    finger = GetFinger(index)\n",
    "    wFinger = FINGERS_WEIGHT[finger]\n",
    "    lat = LateralMovement(index)\n",
    "    colW = COLUMNS_WEIGHT[Column(index)]\n",
    "    return ((lat+colW)**2)*wFinger "
   ]
  },
  {
   "cell_type": "code",
   "execution_count": 28,
   "metadata": {},
   "outputs": [],
   "source": [
    "def LeftShift(indexA):\n",
    "    ha = GetHand(indexA)\n",
    "    hb = GetHand(6)\n",
    "    if(ha != hb): return 0\n",
    "    fa = GetFinger(indexA)\n",
    "    cola = Column(indexA)\n",
    "    lata = LateralMovement(indexA)\n",
    "    fb = GetFinger(6)\n",
    "    colb = Column(6)\n",
    "    latb = LateralMovement(3)\n",
    "    if(fa == fb):\n",
    "        return ((cola-colb)**2+(lata-latb)**2) * 10 * FINGERS_WEIGHT[fa]\n",
    "    return ((cola-colb)**2) * (FINGERS_WEIGHT[fa] + FINGERS_WEIGHT[fb])\n",
    "\n",
    "    "
   ]
  },
  {
   "cell_type": "code",
   "execution_count": 29,
   "metadata": {},
   "outputs": [],
   "source": [
    "def RightShift(indexA):\n",
    "    ha = GetHand(indexA)\n",
    "    hb = GetHand(78)\n",
    "    if(ha != hb): return 0\n",
    "    fa = GetFinger(indexA)\n",
    "    cola = Column(indexA)\n",
    "    lata = LateralMovement(indexA)\n",
    "    fb = GetFinger(78)\n",
    "    colb = Column(78)\n",
    "    latb = LateralMovement(78)\n",
    "    if(fa == fb):\n",
    "        return ((cola-colb)**2+(lata-latb)**2) * 10 * FINGERS_WEIGHT[fa]\n",
    "    return ((cola-colb)**2) * (FINGERS_WEIGHT[fa] + FINGERS_WEIGHT[fb])\n",
    "\n",
    "    "
   ]
  },
  {
   "cell_type": "code",
   "execution_count": null,
   "metadata": {},
   "outputs": [],
   "source": [
    "def WeightPairWise(indexA, indexB):\n",
    "    if(indexA%2 == 1 and indexB%2 == 1):\n",
    "        iA = indexA-1\n",
    "        iB = indexB-1\n",
    "        ans = WeightPairWise(iA, iB)\n",
    "        ha = GetHand(indexA)\n",
    "        if(ha == HAND['left']):\n",
    "            ans += LeftShift(iB)\n",
    "        else:\n",
    "            ans += RightShift(iB)\n",
    "        \n",
    "        hb = GetHand(indexB)\n",
    "        if(hb == HAND['left']):\n",
    "            ans += LeftShift(iA)\n",
    "        else:\n",
    "            ans += RightShift(iA)\n",
    "        return ans\n",
    "    if(indexA%2 == 1):\n",
    "        iA = indexA-1\n",
    "        iB = indexB\n",
    "        ans = WeightPairWise(iA, iB)\n",
    "        ha = GetHand(indexA)\n",
    "        if(ha == HAND['left']):\n",
    "            ans += LeftShift(iB)\n",
    "        else:\n",
    "            ans += RightShift(iB)\n",
    "        return ans\n",
    "    if(indexB%2 == 1):\n",
    "        return WeightPairWise(indexA, indexB)\n",
    "\n",
    "\n",
    "    ha = GetHand(indexA)\n",
    "    hb = GetHand(indexB)\n",
    "    if(ha != hb): return 0\n",
    "    fa = GetFinger(indexA)\n",
    "    cola = Column(indexA)\n",
    "    lata = LateralMovement(indexA)\n",
    "    fb = GetFinger(indexB)\n",
    "    colb = Column(indexB)\n",
    "    latb = LateralMovement(indexB)\n",
    "    if(fa == fb):\n",
    "        return ((cola-colb)**2+(lata-latb)**2) * 10 * FINGERS_WEIGHT[fa]\n",
    "    return ((cola-colb)**2) * (FINGERS_WEIGHT[fa] + FINGERS_WEIGHT[fb])\n",
    "        "
   ]
  }
 ],
 "metadata": {
  "kernelspec": {
   "display_name": "Python 3.8.10 64-bit",
   "language": "python",
   "name": "python3"
  },
  "language_info": {
   "codemirror_mode": {
    "name": "ipython",
    "version": 3
   },
   "file_extension": ".py",
   "mimetype": "text/x-python",
   "name": "python",
   "nbconvert_exporter": "python",
   "pygments_lexer": "ipython3",
   "version": "3.8.10"
  },
  "orig_nbformat": 4,
  "vscode": {
   "interpreter": {
    "hash": "916dbcbb3f70747c44a77c7bcd40155683ae19c65e1c03b4aa3499c5328201f1"
   }
  }
 },
 "nbformat": 4,
 "nbformat_minor": 2
}
