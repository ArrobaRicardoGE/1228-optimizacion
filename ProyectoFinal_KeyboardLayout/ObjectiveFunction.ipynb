{
 "cells": [
  {
   "cell_type": "code",
   "execution_count": 1,
   "metadata": {},
   "outputs": [],
   "source": [
    "import pandas as pd\n",
    "import numpy as np\n",
    "import math\n",
    "import matplotlib.pyplot"
   ]
  },
  {
   "cell_type": "code",
   "execution_count": 2,
   "metadata": {},
   "outputs": [],
   "source": [
    "class FunctionHelper:\n",
    "    def __init__(self, charMap, charCount, pairCount):\n",
    "        self.charMap = charMap\n",
    "        self.charCount = charCount\n",
    "        self.pairCount = pairCount\n",
    "        self.FINGERS_NAME = ['pinky', 'ring', 'middle', 'index', 'thumb', 'none', 'unknown']\n",
    "        self.FINGERS = [0,1,2,3,4,5,6]\n",
    "        self.FINGERS_WEIGHT = [3,2, 2, 1, 0, 0, 'Unknown']\n",
    "        self.HAND = ['left', 'right', 'none', 'Unknown']\n",
    "        self.COLUMNS = [0,1,2,3,'Unknown']\n",
    "        self.COLUMNS_WEIGHT = [2,1,0,1.5,'Unknown']\n",
    "        self.MOVEMENT = [0, 1, 2, 3, 'Unknown']\n",
    "\n",
    "    def getCSVIndex(self,c):\n",
    "        return self.charMap[c]\n",
    "    \n",
    "    def GetFinger(self,index):\n",
    "        if(index >= 0 and index <= 9):\n",
    "            return self.FINGERS[0]\n",
    "        if(index >= 10 and index <= 17):\n",
    "            return self.FINGERS[1]\n",
    "        if(index >= 18 and index <= 25):\n",
    "            return self.FINGERS[2]\n",
    "        if(index >= 26 and index <= 41):\n",
    "            return self.FINGERS[3]\n",
    "        if(index >= 42 and index <= 55):\n",
    "            return self.FINGERS[3]\n",
    "        if(index >= 56 and index <= 63):\n",
    "            return self.FINGERS[2]\n",
    "        if(index >= 64 and index <= 71):\n",
    "            return self.FINGERS[1]\n",
    "        if(index >= 72 and index <= 93):\n",
    "            return self.FINGERS[0]\n",
    "        return self.FINGERS[-1]\n",
    "\n",
    "    def GetHand(self, index):\n",
    "        if(index >= 0 and index <= 41):\n",
    "            return self.HAND[0]\n",
    "        if(index >= 92 and index <= 93):\n",
    "            return self.HAND[0]\n",
    "        if(index >= 42 and index <= 91):\n",
    "            return self.HAND[1]\n",
    "        return self.HAND[-1]\n",
    "\n",
    "    def ShiftHand(self, index):\n",
    "        if(index%2 == 0):\n",
    "            return self.HAND[2]\n",
    "        if(self.GetHand(index) == self.HAND[0]):\n",
    "            return self.HAND[1]\n",
    "        if(self.GetHand(index) == self.HAND[1]):\n",
    "            return self.HAND[0]\n",
    "        return self.HAND[-1]\n",
    "\n",
    "    def Column(self, index):\n",
    "        if(index <= 85):\n",
    "            ii = index%8\n",
    "            if(ii == 0 or ii == 1):\n",
    "                return self.COLUMNS[0]\n",
    "            if(ii == 2 or ii == 3):\n",
    "                return self.COLUMNS[1]\n",
    "            if(ii == 4 or ii == 5):\n",
    "                return self.COLUMNS[2]\n",
    "            if(ii == 6 or ii == 7):\n",
    "                return self.COLUMNS[3]\n",
    "        \n",
    "        if(index > 85):\n",
    "            ii = index%8\n",
    "            if(ii == 0 or ii == 1):\n",
    "                return self.COLUMNS[1]\n",
    "            if(ii == 2 or ii == 3):\n",
    "                return self.COLUMNS[1]\n",
    "            if(ii == 4 or ii == 5):\n",
    "                return self.COLUMNS[0]\n",
    "            if(ii == 6 or ii == 7):\n",
    "                return self.COLUMNS[0]\n",
    "        return self.COLUMNS[-1]\n",
    "\n",
    "    def LateralMovement(self, index):\n",
    "        index = index - (index%2)\n",
    "        if(index == 0):\n",
    "            return self.MOVEMENT[1]\n",
    "        if(index == 92):\n",
    "            return self.MOVEMENT[2]\n",
    "        if(index == 90):\n",
    "            return self.MOVEMENT[3]\n",
    "        if(index >= 86 and index <= 88):\n",
    "            return self.MOVEMENT[2]\n",
    "        if(index >= 80 and index <= 84):\n",
    "            return self.MOVEMENT[1]\n",
    "        if(index >= 34 and index <= 46):\n",
    "            return self.MOVEMENT[1]\n",
    "        if(index >= 0 and index <= 93):\n",
    "            return self.MOVEMENT[0]\n",
    "        return self.MOVEMENT[-1]\n",
    "\n",
    "    def WeightIndex(self, index):\n",
    "        assert (index <= 93)\n",
    "        finger = self.GetFinger(index)\n",
    "        wFinger = self.FINGERS_WEIGHT[finger]\n",
    "        lat = self.LateralMovement(index)\n",
    "        colW = self.COLUMNS_WEIGHT[self.Column(index)]\n",
    "        return ((lat+colW)**2)*wFinger \n",
    "    \n",
    "    def LeftShift(self, indexA):\n",
    "        ha = self.GetHand(indexA)\n",
    "        hb = self.GetHand(6)\n",
    "        if(ha != hb): return 0\n",
    "        fa = self.GetFinger(indexA)\n",
    "        cola = self.Column(indexA)\n",
    "        lata = self.LateralMovement(indexA)\n",
    "        fb = self.GetFinger(6)\n",
    "        colb = self.Column(6)\n",
    "        latb = self.LateralMovement(3)\n",
    "        if(fa == fb):\n",
    "            return ((cola-colb)**2+(lata-latb)**2) * 10 * self.FINGERS_WEIGHT[fa]\n",
    "        return ((cola-colb)**2) * (self.FINGERS_WEIGHT[fa] + self.FINGERS_WEIGHT[fb])\n",
    "\n",
    "    def RightShift(self, indexA):\n",
    "        ha = self.GetHand(indexA)\n",
    "        hb = self.GetHand(78)\n",
    "        if(ha != hb): return 0\n",
    "        fa = self.GetFinger(indexA)\n",
    "        cola = self.Column(indexA)\n",
    "        lata = self.LateralMovement(indexA)\n",
    "        fb = self.GetFinger(78)\n",
    "        colb = self.Column(78)\n",
    "        latb = self.LateralMovement(78)\n",
    "        if(fa == fb):\n",
    "            return ((cola-colb)**2+(lata-latb)**2) * 10 * self.FINGERS_WEIGHT[fa]\n",
    "        return ((cola-colb)**2) * (self.FINGERS_WEIGHT[fa] + self.FINGERS_WEIGHT[fb])\n",
    "\n",
    "    def WeightPairWise(self, indexA, indexB):\n",
    "        if(indexA%2 == 1 and indexB%2 == 1):\n",
    "            iA = indexA-1\n",
    "            iB = indexB-1\n",
    "            ans = self.WeightPairWise(iA, iB)\n",
    "            ha = self.GetHand(indexA)\n",
    "            if(ha == self.HAND[1]):\n",
    "                ans += self.LeftShift(iB)\n",
    "            else:\n",
    "                ans += self.RightShift(iB)\n",
    "            \n",
    "            hb = self.GetHand(indexB)\n",
    "            if(hb == self.HAND[1]):\n",
    "                ans += self.LeftShift(iA)\n",
    "            else:\n",
    "                ans += self.RightShift(iA)\n",
    "            return ans\n",
    "        if(indexA%2 == 1):\n",
    "            iA = indexA-1\n",
    "            iB = indexB\n",
    "            ans = self.WeightPairWise(iA, iB)\n",
    "            ha = self.GetHand(indexA)\n",
    "            if(ha == self.HAND[1]):\n",
    "                ans += self.LeftShift(iB)\n",
    "            else:\n",
    "                ans += self.RightShift(iB)\n",
    "            return ans\n",
    "        if(indexB%2 == 1):\n",
    "            return self.WeightPairWise(indexB, indexA)\n",
    "\n",
    "\n",
    "        ha = self.GetHand(indexA)\n",
    "        hb = self.GetHand(indexB)\n",
    "        if(ha != hb): return 0\n",
    "        fa = self.GetFinger(indexA)\n",
    "        cola = self.Column(indexA)\n",
    "        lata = self.LateralMovement(indexA)\n",
    "        fb = self.GetFinger(indexB)\n",
    "        colb = self.Column(indexB)\n",
    "        latb = self.LateralMovement(indexB)\n",
    "        if(fa == fb):\n",
    "            return ((cola-colb)**2+(lata-latb)**2) * 10 * self.FINGERS_WEIGHT[fa]\n",
    "        return ((cola-colb)**2) * (self.FINGERS_WEIGHT[fa] + self.FINGERS_WEIGHT[fb])\n",
    "    "
   ]
  },
  {
   "cell_type": "code",
   "execution_count": 3,
   "metadata": {},
   "outputs": [],
   "source": [
    "def ObjectiveFunction(X, helper):\n",
    "    ans = 0\n",
    "    chars = 0\n",
    "    XIndex = [helper.getCSVIndex(x) for x in X]\n",
    "    for i, x in enumerate(XIndex):\n",
    "        ans += helper.charCount[x]*helper.WeightIndex(i)\n",
    "        chars += helper.charCount[x]\n",
    "    for i,x in enumerate(XIndex):\n",
    "        for j,y in enumerate(XIndex):\n",
    "            ans += helper.pairCount[x][y]*helper.WeightPairWise(i,j)\n",
    "            chars += helper.pairCount[x][y]\n",
    "    return ans/chars\n",
    "        "
   ]
  },
  {
   "cell_type": "code",
   "execution_count": 4,
   "metadata": {},
   "outputs": [],
   "source": [
    "validChars = 'pPyYfFgGcCrRlLaAoOeEuUiIdDhHtTnNsSqQjJkKxXbBmMwWvVzZ$&[{}(=*)+]!#~%7531902468`;,./@\\\\:<>?^|-\\'_\"\\t\\n '\n",
    "allChars = dict(zip(validChars,np.arange(len(validChars))))\n",
    "charCountCSV = np.array(pd.read_csv('CharCount.csv').values)[:,2]\n",
    "pairCountCSV = np.array(pd.read_csv('PairCount.csv').values)[:,1:]"
   ]
  },
  {
   "cell_type": "code",
   "execution_count": 5,
   "metadata": {},
   "outputs": [],
   "source": [
    "helper = FunctionHelper(allChars, charCountCSV, pairCountCSV)"
   ]
  },
  {
   "cell_type": "code",
   "execution_count": 6,
   "metadata": {},
   "outputs": [
    {
     "name": "stdout",
     "output_type": "stream",
     "text": [
      "94\n"
     ]
    }
   ],
   "source": [
    "qwertyLayout = '1!qQaAzZ2@wWsSxX3#eEdDcC4$rRfFvV5%tTgGbB6^yYhHnN7&uUjJmM8*iIkK,<9(oOlL.>0)pP;:/?-_[{\\'\"=+]}\\\\|`~'\n",
    "baseLayout = 'pPyYfFgGcCrRlLaAoOeEuUiIdDhHtTnNsSqQjJkKxXbBmMwWvVzZ$&[{}(=*)+]!#~%7531902468`;,./@\\\\:<>?^|-\\'_\"'\n",
    "print(len(qwertyLayout))"
   ]
  },
  {
   "cell_type": "code",
   "execution_count": 7,
   "metadata": {},
   "outputs": [
    {
     "name": "stdout",
     "output_type": "stream",
     "text": [
      "9.627145681198524\n"
     ]
    }
   ],
   "source": [
    "funVal = ObjectiveFunction(qwertyLayout, helper)\n",
    "print(funVal)"
   ]
  },
  {
   "cell_type": "code",
   "execution_count": 8,
   "metadata": {},
   "outputs": [
    {
     "name": "stdout",
     "output_type": "stream",
     "text": [
      "15.212302700036597\n"
     ]
    }
   ],
   "source": [
    "funVal = ObjectiveFunction(baseLayout, helper)\n",
    "print(funVal)"
   ]
  },
  {
   "cell_type": "code",
   "execution_count": null,
   "metadata": {},
   "outputs": [],
   "source": []
  }
 ],
 "metadata": {
  "kernelspec": {
   "display_name": "Python 3.8.10 64-bit",
   "language": "python",
   "name": "python3"
  },
  "language_info": {
   "codemirror_mode": {
    "name": "ipython",
    "version": 3
   },
   "file_extension": ".py",
   "mimetype": "text/x-python",
   "name": "python",
   "nbconvert_exporter": "python",
   "pygments_lexer": "ipython3",
   "version": "3.8.10"
  },
  "orig_nbformat": 4,
  "vscode": {
   "interpreter": {
    "hash": "916dbcbb3f70747c44a77c7bcd40155683ae19c65e1c03b4aa3499c5328201f1"
   }
  }
 },
 "nbformat": 4,
 "nbformat_minor": 2
}
