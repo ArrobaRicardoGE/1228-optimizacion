{
 "cells": [
  {
   "cell_type": "code",
   "execution_count": 116,
   "metadata": {},
   "outputs": [],
   "source": [
    "import pandas as pd\n",
    "import numpy as np\n",
    "from numpy.random import default_rng\n",
    "import math\n",
    "from functools import reduce"
   ]
  },
  {
   "cell_type": "markdown",
   "metadata": {},
   "source": [
    "## 1) Read from file"
   ]
  },
  {
   "cell_type": "code",
   "execution_count": 35,
   "metadata": {},
   "outputs": [],
   "source": [
    "def readSourceFile(filePath):\n",
    "    df = pd.read_csv(filePath)\n",
    "    nodesNames = np.array(np.array(df.columns[1:]))\n",
    "    distanceMatrix = np.array(df.values[:,1:])\n",
    "    nodesDictionary = dict(zip(nodesNames, np.arange(len(nodesNames))))\n",
    "    return nodesNames, nodesDictionary, distanceMatrix"
   ]
  },
  {
   "cell_type": "code",
   "execution_count": 36,
   "metadata": {},
   "outputs": [
    {
     "name": "stdout",
     "output_type": "stream",
     "text": [
      "Nodes namnes: ['A' 'B' 'C' 'D' 'E' 'F' 'G' 'H' 'I' 'J']\n",
      "Nodes dictionary: {'A': 0, 'B': 1, 'C': 2, 'D': 3, 'E': 4, 'F': 5, 'G': 6, 'H': 7, 'I': 8, 'J': 9}\n",
      "Distance matrix:\n",
      "[[0 59 48 69 54 91 55 34 81 72]\n",
      " [59 0 45 19 45 73 48 13 13 42]\n",
      " [48 45 0 97 11 65 12 58 70 45]\n",
      " [69 19 97 0 31 94 23 66 71 13]\n",
      " [54 45 11 31 0 95 37 47 24 49]\n",
      " [91 73 65 94 95 0 62 35 38 61]\n",
      " [55 48 12 23 37 62 0 82 96 47]\n",
      " [34 13 58 66 47 35 82 0 10 47]\n",
      " [81 13 70 71 24 38 96 10 0 63]\n",
      " [72 42 45 13 49 61 47 47 63 0]]\n"
     ]
    }
   ],
   "source": [
    "path = '../dataset/'\n",
    "fileName = 'adjacency_matrix.csv'\n",
    "nodesNames, nodesDictionary, distanceMatrix = readSourceFile(path + fileName)\n",
    "print(\"Nodes namnes:\", nodesNames)\n",
    "print(\"Nodes dictionary:\", nodesDictionary)\n",
    "print(\"Distance matrix:\", distanceMatrix, sep='\\n')\n"
   ]
  },
  {
   "cell_type": "markdown",
   "metadata": {},
   "source": [
    "## 2) Generate N Nodes"
   ]
  },
  {
   "cell_type": "code",
   "execution_count": 68,
   "metadata": {},
   "outputs": [],
   "source": [
    "def NumberToLetter(N):\n",
    "    numberOfLetters = ord('Z') - ord('A') + 1\n",
    "    asciiA = ord('A')\n",
    "    result = ''\n",
    "    while(N >= 0):\n",
    "        result = chr(asciiA + N%26) + result\n",
    "        N = int(N/26)\n",
    "        if(N == 0):\n",
    "            break\n",
    "    return result\n"
   ]
  },
  {
   "cell_type": "code",
   "execution_count": 94,
   "metadata": {},
   "outputs": [],
   "source": [
    "def CalculateDistance(A, B):\n",
    "    return math.sqrt((A[0]-B[0])**2 + (A[1]-B[1])**2)"
   ]
  },
  {
   "cell_type": "code",
   "execution_count": 111,
   "metadata": {},
   "outputs": [],
   "source": [
    "def GenerateNodes(numberOfNodes, limitLow, limitHigh):\n",
    "    nodesNames = np.array([NumberToLetter(x) for x in np.arange(numberOfNodes)])\n",
    "    nodesDictionary = dict(zip(nodesNames, np.arange(numberOfNodes)))\n",
    "    rng = default_rng(16072001)\n",
    "    nodesPosition = [ (rng.random()*(limitHigh-limitLow) + limitLow, rng.random()*(limitHigh-limitLow) + limitLow) for x in range(numberOfNodes)]\n",
    "    distanceMatrix = np.array(list([CalculateDistance(nodesPosition[i], nodesPosition[j]) for j in range(numberOfNodes)] for i in range(numberOfNodes)))\n",
    "    return nodesNames, nodesPosition, nodesDictionary, distanceMatrix"
   ]
  },
  {
   "cell_type": "code",
   "execution_count": 137,
   "metadata": {},
   "outputs": [
    {
     "name": "stdout",
     "output_type": "stream",
     "text": [
      "Nodes Names: ['A' 'B' 'C' 'D']\n",
      "Nodes Position: [(86.74836895157574, 96.4943965054594), (-86.63483376855473, 84.04208524778474), (-95.87684156945602, 25.91066175533649), (50.77233455321419, 38.813054548947036)]\n",
      "Nodes Dictionary:  {'A': 0, 'B': 1, 'C': 2, 'D': 3}\n",
      "Distance Matrix\n",
      "[[  0.         173.82978755 195.79078408  67.98096984]\n",
      " [173.82978755   0.          58.86150784 144.65958359]\n",
      " [195.79078408  58.86150784   0.         147.21566696]\n",
      " [ 67.98096984 144.65958359 147.21566696   0.        ]]\n"
     ]
    }
   ],
   "source": [
    "numberOfNodes = 4\n",
    "limitLow = -100\n",
    "limitHigh = 100\n",
    "nodesNames, nodesPosition, nodesDictionary, distanceMatrix = GenerateNodes(numberOfNodes, limitLow, limitHigh)\n",
    "print('Nodes Names:', nodesNames)\n",
    "print('Nodes Position:', nodesPosition)\n",
    "print('Nodes Dictionary: ', nodesDictionary)\n",
    "print('Distance Matrix', distanceMatrix, sep='\\n')"
   ]
  },
  {
   "cell_type": "markdown",
   "metadata": {},
   "source": [
    "## 3) Objective Function "
   ]
  },
  {
   "cell_type": "code",
   "execution_count": 157,
   "metadata": {},
   "outputs": [],
   "source": [
    "def FuncionObjetivo(nodesNames, nodesDictionary, distanceMatrix, sol):\n",
    "    r\"\"\"Solution is given in index form\"\"\"\n",
    "    solution = list(sol)\n",
    "    solution.append(solution[0])\n",
    "    f = 0\n",
    "    for i in range(1, len(solution)):\n",
    "        f += distanceMatrix[solution[i-1]][solution[i]]\n",
    "    return f\n"
   ]
  },
  {
   "cell_type": "code",
   "execution_count": 158,
   "metadata": {},
   "outputs": [
    {
     "name": "stdout",
     "output_type": "stream",
     "text": [
      "447.8879321962664\n"
     ]
    }
   ],
   "source": [
    "rng = default_rng(16072001)\n",
    "solution = rng.permutation(numberOfNodes)\n",
    "f = FuncionObjetivo(nodesNames, nodesDictionary, distanceMatrix, solution)\n",
    "print(f)"
   ]
  },
  {
   "cell_type": "code",
   "execution_count": null,
   "metadata": {},
   "outputs": [],
   "source": []
  }
 ],
 "metadata": {
  "kernelspec": {
   "display_name": "Python 3.8.10 64-bit",
   "language": "python",
   "name": "python3"
  },
  "language_info": {
   "codemirror_mode": {
    "name": "ipython",
    "version": 3
   },
   "file_extension": ".py",
   "mimetype": "text/x-python",
   "name": "python",
   "nbconvert_exporter": "python",
   "pygments_lexer": "ipython3",
   "version": "3.8.10"
  },
  "orig_nbformat": 4,
  "vscode": {
   "interpreter": {
    "hash": "916dbcbb3f70747c44a77c7bcd40155683ae19c65e1c03b4aa3499c5328201f1"
   }
  }
 },
 "nbformat": 4,
 "nbformat_minor": 2
}
