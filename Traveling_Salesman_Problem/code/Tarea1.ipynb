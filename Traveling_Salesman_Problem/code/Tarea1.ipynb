{
 "cells": [
  {
   "cell_type": "markdown",
   "metadata": {},
   "source": [
    "# Traveling Salesman Problem\n",
    "## Juan Marquina Cancino\n",
    "## Ricardo Antonio Gutiérrez Esparza"
   ]
  },
  {
   "cell_type": "code",
   "execution_count": 1,
   "metadata": {},
   "outputs": [],
   "source": [
    "import pandas as pd\n",
    "import numpy as np\n",
    "from numpy.random import default_rng\n",
    "import math\n",
    "import matplotlib.pyplot as plt"
   ]
  },
  {
   "cell_type": "markdown",
   "metadata": {},
   "source": [
    "## 1) Read from file"
   ]
  },
  {
   "cell_type": "code",
   "execution_count": 2,
   "metadata": {},
   "outputs": [],
   "source": [
    "def readSourceFile(filePath):\n",
    "    r\"\"\"Recieves file path to a .csv table, representing ther distances matrix of a graph. First column and first row\n",
    "    must be the nodes names, values should be separated by commas\"\"\"\n",
    "    df = pd.read_csv(filePath)\n",
    "    nodesNames = np.array(np.array(df.columns[1:]))\n",
    "    distanceMatrix = np.array(df.values[:,1:])\n",
    "    nodesDictionary = dict(zip(nodesNames, np.arange(len(nodesNames))))\n",
    "    return nodesNames, nodesDictionary, distanceMatrix"
   ]
  },
  {
   "cell_type": "code",
   "execution_count": 3,
   "metadata": {},
   "outputs": [
    {
     "name": "stdout",
     "output_type": "stream",
     "text": [
      "Nodes namnes: ['A' 'B' 'C' 'D' 'E' 'F' 'G' 'H' 'I' 'J']\n",
      "Nodes dictionary: {'A': 0, 'B': 1, 'C': 2, 'D': 3, 'E': 4, 'F': 5, 'G': 6, 'H': 7, 'I': 8, 'J': 9}\n",
      "Distance matrix:\n",
      "[[0 59 48 69 54 91 55 34 81 72]\n",
      " [59 0 45 19 45 73 48 13 13 42]\n",
      " [48 45 0 97 11 65 12 58 70 45]\n",
      " [69 19 97 0 31 94 23 66 71 13]\n",
      " [54 45 11 31 0 95 37 47 24 49]\n",
      " [91 73 65 94 95 0 62 35 38 61]\n",
      " [55 48 12 23 37 62 0 82 96 47]\n",
      " [34 13 58 66 47 35 82 0 10 47]\n",
      " [81 13 70 71 24 38 96 10 0 63]\n",
      " [72 42 45 13 49 61 47 47 63 0]]\n"
     ]
    }
   ],
   "source": [
    "path = '../dataset/'\n",
    "fileName = 'adjacency_matrix.csv'\n",
    "nodesNames, nodesDictionary, distanceMatrix = readSourceFile(path + fileName)\n",
    "print(\"Nodes namnes:\", nodesNames)\n",
    "print(\"Nodes dictionary:\", nodesDictionary)\n",
    "print(\"Distance matrix:\", distanceMatrix, sep='\\n')\n"
   ]
  },
  {
   "cell_type": "markdown",
   "metadata": {},
   "source": [
    "## 2) Generate N Nodes"
   ]
  },
  {
   "cell_type": "code",
   "execution_count": 4,
   "metadata": {},
   "outputs": [],
   "source": [
    "def NumberToLetter(N):\n",
    "    numberOfLetters = ord('Z') - ord('A') + 1\n",
    "    asciiA = ord('A')\n",
    "    result = ''\n",
    "    while(N >= 0):\n",
    "        result = chr(asciiA + N%26) + result\n",
    "        N = int(N/26)\n",
    "        if(N == 0):\n",
    "            break\n",
    "    return result\n"
   ]
  },
  {
   "cell_type": "code",
   "execution_count": 5,
   "metadata": {},
   "outputs": [],
   "source": [
    "def CalculateDistance(A, B):\n",
    "    return math.sqrt((A[0]-B[0])**2 + (A[1]-B[1])**2)"
   ]
  },
  {
   "cell_type": "code",
   "execution_count": 6,
   "metadata": {},
   "outputs": [],
   "source": [
    "def GenerateNodes(numberOfNodes, limitLow, limitHigh):\n",
    "    nodesNames = np.array([NumberToLetter(x) for x in np.arange(numberOfNodes)])\n",
    "    nodesDictionary = dict(zip(nodesNames, np.arange(numberOfNodes)))\n",
    "    rng = default_rng(16072001)\n",
    "    nodesPosition = [ (rng.random()*(limitHigh-limitLow) + limitLow, rng.random()*(limitHigh-limitLow) + limitLow) for x in range(numberOfNodes)]\n",
    "    distanceMatrix = np.array(list([CalculateDistance(nodesPosition[i], nodesPosition[j]) for j in range(numberOfNodes)] for i in range(numberOfNodes)))\n",
    "    return nodesNames, nodesPosition, nodesDictionary, distanceMatrix"
   ]
  },
  {
   "cell_type": "code",
   "execution_count": 7,
   "metadata": {},
   "outputs": [
    {
     "name": "stdout",
     "output_type": "stream",
     "text": [
      "Nodes Names: ['A' 'B' 'C' 'D']\n",
      "Nodes Position: [(86.74836895157574, 96.4943965054594), (-86.63483376855473, 84.04208524778474), (-95.87684156945602, 25.91066175533649), (50.77233455321419, 38.813054548947036)]\n",
      "Nodes Dictionary:  {'A': 0, 'B': 1, 'C': 2, 'D': 3}\n",
      "Distance Matrix\n",
      "[[  0.         173.82978755 195.79078408  67.98096984]\n",
      " [173.82978755   0.          58.86150784 144.65958359]\n",
      " [195.79078408  58.86150784   0.         147.21566696]\n",
      " [ 67.98096984 144.65958359 147.21566696   0.        ]]\n"
     ]
    }
   ],
   "source": [
    "numberOfNodes = 4\n",
    "limitLow = -100\n",
    "limitHigh = 100\n",
    "nodesNames, nodesPosition, nodesDictionary, distanceMatrix = GenerateNodes(numberOfNodes, limitLow, limitHigh)\n",
    "print('Nodes Names:', nodesNames)\n",
    "print('Nodes Position:', nodesPosition)\n",
    "print('Nodes Dictionary: ', nodesDictionary)\n",
    "print('Distance Matrix', distanceMatrix, sep='\\n')"
   ]
  },
  {
   "cell_type": "markdown",
   "metadata": {},
   "source": [
    "## 3) Objective Function "
   ]
  },
  {
   "cell_type": "code",
   "execution_count": 8,
   "metadata": {},
   "outputs": [],
   "source": [
    "def ObjectiveFunction(nodesNames, nodesDictionary, distanceMatrix, sol):\n",
    "    r\"\"\"Solution is given in index form\"\"\"\n",
    "    solution = list(sol)\n",
    "    solution.append(solution[0])\n",
    "    f = 0\n",
    "    for i in range(1, len(solution)):\n",
    "        f += distanceMatrix[solution[i-1]][solution[i]]\n",
    "    return f\n"
   ]
  },
  {
   "cell_type": "code",
   "execution_count": 9,
   "metadata": {},
   "outputs": [
    {
     "name": "stdout",
     "output_type": "stream",
     "text": [
      "447.8879321962664\n"
     ]
    }
   ],
   "source": [
    "rng = default_rng(16072001)\n",
    "solution = rng.permutation(numberOfNodes)\n",
    "f = ObjectiveFunction(nodesNames, nodesDictionary, distanceMatrix, solution)\n",
    "print(f)"
   ]
  },
  {
   "cell_type": "markdown",
   "metadata": {},
   "source": [
    "## 4) Nodes positions randomly"
   ]
  },
  {
   "cell_type": "code",
   "execution_count": 10,
   "metadata": {},
   "outputs": [],
   "source": [
    "def SolutionPermutation(nodesNames):\n",
    "    numberOfNodes = len(nodesNames)\n",
    "    rng = default_rng()\n",
    "    return rng.permutation(numberOfNodes)"
   ]
  },
  {
   "cell_type": "code",
   "execution_count": 11,
   "metadata": {},
   "outputs": [
    {
     "data": {
      "text/plain": [
       "array([2, 3, 0, 1])"
      ]
     },
     "execution_count": 11,
     "metadata": {},
     "output_type": "execute_result"
    }
   ],
   "source": [
    "SolutionPermutation(nodesNames)"
   ]
  },
  {
   "cell_type": "markdown",
   "metadata": {},
   "source": [
    "## 5) Genetic algorithm"
   ]
  },
  {
   "cell_type": "code",
   "execution_count": 12,
   "metadata": {},
   "outputs": [],
   "source": [
    "def ParentSelectionRoulette(fitness):\n",
    "    '''\n",
    "        Input:  fitness -> Array of pop_size elements\n",
    "        Output: Index of selected parent\n",
    "    '''\n",
    "    total = np.sum(fitness)\n",
    "    roulette = np.cumsum(fitness / total)\n",
    "    \n",
    "    i = 0\n",
    "    dart = np.random.uniform()\n",
    "    while roulette[i] < dart:\n",
    "        i += 1\n",
    "    return i"
   ]
  },
  {
   "cell_type": "code",
   "execution_count": 13,
   "metadata": {},
   "outputs": [],
   "source": [
    "def ParentSelectionTournament(fitness, k=2):\n",
    "    '''\n",
    "        Input:  fitness -> Array of pop_size elements\n",
    "                k -> size of tournament\n",
    "        Output: Index of selected parent\n",
    "    '''\n",
    "    rng = default_rng()\n",
    "    selection = rng.permutation(len(fitness))\n",
    "    not_selection = selection[k:]\n",
    "    raffle = fitness.copy()\n",
    "    raffle[not_selection] = np.max(raffle) + 1\n",
    "    return np.argmin(raffle)\n",
    "    "
   ]
  },
  {
   "cell_type": "code",
   "execution_count": 14,
   "metadata": {},
   "outputs": [],
   "source": [
    "def CrossoverSimplePermutation(parent1, parent2):\n",
    "    rng = default_rng()\n",
    "    cut = rng.integers(low=0, high=len(parent1))\n",
    "    offspring = np.append(parent1[:cut], parent2[cut:])\n",
    "    \n",
    "    used = np.zeros(len(parent1), dtype=int)\n",
    "    for x in offspring:\n",
    "        used[x] += 1\n",
    "    unused = []\n",
    "    for i,x in enumerate(used):\n",
    "        if x == 0:\n",
    "            unused.append(i)\n",
    "    rng = default_rng()\n",
    "    unused = rng.permutation(unused)\n",
    "    \n",
    "    for i,x in enumerate(offspring):\n",
    "        if used[x] > 1:\n",
    "            used[x] -= 1\n",
    "            offspring[i] = unused[-1]\n",
    "            unused = unused[:-1]\n",
    "            \n",
    "    return offspring"
   ]
  },
  {
   "cell_type": "code",
   "execution_count": 15,
   "metadata": {},
   "outputs": [],
   "source": [
    "def CrossoverPartiallyMapped(parent1, parent2):\n",
    "    rng = default_rng()\n",
    "    cut1 = rng.integers(low=0, high=len(parent1))\n",
    "    cut2 = rng.integers(low=cut1, high=len(parent1))\n",
    "    offspring = np.append(parent2[:cut1], parent1[cut1:cut2])\n",
    "    offspring = np.append(offspring, parent2[cut2:])\n",
    "    \n",
    "    used = np.zeros(len(parent1), dtype=int)\n",
    "    for x in offspring:\n",
    "        used[x] += 1\n",
    "    unused = []\n",
    "    for x in parent2[cut1:cut2]:\n",
    "        if used[x] == 0:\n",
    "            unused.append(x)\n",
    "    unused = unused[::-1]\n",
    "    \n",
    "    for i,x in enumerate(offspring[:cut1]):\n",
    "        if used[x] > 1:\n",
    "            used[x] -= 1\n",
    "            offspring[i] = unused[-1]\n",
    "            unused = unused[:-1]\n",
    "            \n",
    "    for i,x in enumerate(offspring[cut2:]):\n",
    "        if used[x] > 1:\n",
    "            used[x] -= 1\n",
    "            offspring[i + cut2] = unused[-1]\n",
    "            unused = unused[:-1]\n",
    "    \n",
    "    return offspring\n",
    "    "
   ]
  },
  {
   "cell_type": "code",
   "execution_count": 16,
   "metadata": {},
   "outputs": [],
   "source": [
    "def MutationSwap(genotype):\n",
    "    rng = default_rng()\n",
    "    g = rng.integers(low=0, high=len(genotype), size=2)\n",
    "    \n",
    "    genotype[g[0]], genotype[g[1]] = genotype[g[1]], genotype[g[0]]\n",
    "    \n",
    "    return genotype"
   ]
  },
  {
   "cell_type": "code",
   "execution_count": 17,
   "metadata": {},
   "outputs": [],
   "source": [
    "def TSPCrossover(population, fitness, Pr):\n",
    "    rng = default_rng()\n",
    "    new_population = []\n",
    "    for i in range(len(population)): \n",
    "        if(rng.random() < Pr):\n",
    "            parent1 = population[ParentSelectionTournament(fitness)]\n",
    "            parent2 = population[ParentSelectionTournament(fitness)]\n",
    "            new_population.append(CrossoverPartiallyMapped(parent1, parent2))\n",
    "        else:\n",
    "            new_population.append(population[ParentSelectionTournament(fitness)])\n",
    "    \n",
    "    return new_population\n",
    "        "
   ]
  },
  {
   "cell_type": "code",
   "execution_count": 18,
   "metadata": {},
   "outputs": [],
   "source": [
    "def TSPMutation(population, Pm):\n",
    "    rng = default_rng()\n",
    "    new_population = []\n",
    "    for genotype in population:\n",
    "        new_population.append(MutationSwap(genotype) if rng.random() < Pm else genotype)\n",
    "    return new_population"
   ]
  },
  {
   "cell_type": "code",
   "execution_count": 19,
   "metadata": {},
   "outputs": [],
   "source": [
    "def TSPGeneticAlgorithm(nodesNames, nodesDictionary, distanceMatrix, N=30, G=100, Pr=0.8, Pm=0.3):\n",
    "    population = [SolutionPermutation(nodesNames) for i in range(N)]\n",
    "    fitness = np.array([ObjectiveFunction(nodesNames, nodesDictionary, distanceMatrix, genotype) for genotype in population])\n",
    "    elite = population[np.argmin(fitness)].copy()\n",
    "    elite_fx = np.min(fitness)\n",
    "    \n",
    "    current_g = 0\n",
    "    while current_g < G:\n",
    "        print(f'Generation #{current_g}: elite = {elite}, fitness = {elite_fx}')\n",
    "        population = TSPCrossover(population, fitness, Pr)\n",
    "        population = TSPMutation(population, Pm)\n",
    "        fitness = np.array([ObjectiveFunction(nodesNames, nodesDictionary, distanceMatrix, genotype) for genotype in population])\n",
    "        if(np.min(fitness) > elite_fx):\n",
    "            max_idx = np.argmax(fitness)\n",
    "            population[max_idx] = elite\n",
    "            fitness[max_idx] = elite_fx\n",
    "        else:\n",
    "            elite = population[np.argmin(fitness)].copy()\n",
    "            elite_fx = np.min(fitness)\n",
    "            \n",
    "        current_g +=1\n",
    "    \n",
    "    return elite, elite_fx\n",
    "    "
   ]
  },
  {
   "cell_type": "code",
   "execution_count": 20,
   "metadata": {},
   "outputs": [
    {
     "name": "stdout",
     "output_type": "stream",
     "text": [
      "Nodes Names: ['A' 'B' 'C' 'D' 'E' 'F' 'G' 'H' 'I' 'J']\n",
      "Nodes Position: [(86.74836895157574, 96.4943965054594), (-86.63483376855473, 84.04208524778474), (-95.87684156945602, 25.91066175533649), (50.77233455321419, 38.813054548947036), (30.42912360152482, -7.335740728161497), (-95.06187977261678, -31.61216348632348), (59.62333011223711, 95.65384283789243), (-96.02336150837785, -76.76974632941634), (-97.90440933132115, 36.02573039751286), (40.520466820864215, 23.909231048874503)]\n",
      "Nodes Dictionary:  {'A': 0, 'B': 1, 'C': 2, 'D': 3, 'E': 4, 'F': 5, 'G': 6, 'H': 7, 'I': 8, 'J': 9}\n",
      "Distance Matrix\n",
      "[[  0.         173.82978755 195.79078408  67.98096984 118.12093292\n",
      "  222.4101105   27.1380593  251.8451283  194.3015906   86.05594215]\n",
      " [173.82978755   0.          58.86150784 144.65958359 148.50547867\n",
      "  115.96085699 146.71838132 161.08565929  49.32112799 140.65713854]\n",
      " [195.79078408  58.86150784   0.         147.21566696 130.60826971\n",
      "   57.52859799 170.42421982 102.68051262  10.31628056 136.41199163]\n",
      " [ 67.98096984 144.65958359 147.21566696   0.          50.43369446\n",
      "  161.94853937  57.52577975 186.83779126 148.70286933  18.08935452]\n",
      " [118.12093292 148.50547867 130.60826971  50.43369446   0.\n",
      "  127.81759124 107.0474475  144.26126342 135.46111196  32.83418142]\n",
      " [222.4101105  115.96085699  57.52859799 161.94853937 127.81759124\n",
      "    0.         200.31013585  45.16781747  67.69759718 146.51006095]\n",
      " [ 27.1380593  146.71838132 170.42421982  57.52577975 107.0474475\n",
      "  200.31013585   0.         232.28384945 168.43544902  74.24425033]\n",
      " [251.8451283  161.08565929 102.68051262 186.83779126 144.26126342\n",
      "   45.16781747 232.28384945   0.         112.8111604  169.64808735]\n",
      " [194.3015906   49.32112799  10.31628056 148.70286933 135.46111196\n",
      "   67.69759718 168.43544902 112.8111604    0.         138.95415033]\n",
      " [ 86.05594215 140.65713854 136.41199163  18.08935452  32.83418142\n",
      "  146.51006095  74.24425033 169.64808735 138.95415033   0.        ]]\n"
     ]
    }
   ],
   "source": [
    "numberOfNodes = 10\n",
    "limitLow = -100\n",
    "limitHigh = 100\n",
    "nodesNames, nodesPosition, nodesDictionary, distanceMatrix = GenerateNodes(numberOfNodes, limitLow, limitHigh)\n",
    "print('Nodes Names:', nodesNames)\n",
    "print('Nodes Position:', nodesPosition)\n",
    "print('Nodes Dictionary: ', nodesDictionary)\n",
    "print('Distance Matrix', distanceMatrix, sep='\\n')"
   ]
  },
  {
   "cell_type": "markdown",
   "metadata": {},
   "source": [
    "After experimenting, we found that Tournament Parent Selection works best for TSP. Crossover method doesn't seem to matter that much, so we used Partially Mapped Crossover. "
   ]
  },
  {
   "cell_type": "code",
   "execution_count": 21,
   "metadata": {},
   "outputs": [
    {
     "name": "stdout",
     "output_type": "stream",
     "text": [
      "Generation #0: elite = [8 5 7 3 4 0 6 9 2 1], fitness = 814.2347703858554\n",
      "Generation #1: elite = [8 5 7 3 4 0 6 9 2 1], fitness = 814.2347703858554\n",
      "Generation #2: elite = [8 5 7 3 4 0 6 9 2 1], fitness = 814.2347703858554\n",
      "Generation #3: elite = [9 4 3 7 5 2 1 8 0 6], fitness = 776.6686186569541\n",
      "Generation #4: elite = [9 4 3 7 5 2 1 8 0 6], fitness = 776.6686186569541\n",
      "Generation #5: elite = [9 4 3 7 5 2 1 8 0 6], fitness = 776.6686186569541\n",
      "Generation #6: elite = [9 4 3 7 5 2 1 8 0 6], fitness = 776.6686186569541\n",
      "Generation #7: elite = [9 4 3 7 5 2 1 8 0 6], fitness = 776.6686186569541\n",
      "Generation #8: elite = [9 3 0 6 1 5 7 8 2 4], fitness = 707.625331533873\n",
      "Generation #9: elite = [9 3 0 6 1 5 7 8 2 4], fitness = 707.625331533873\n",
      "Generation #10: elite = [9 3 0 6 1 5 7 8 2 4], fitness = 707.625331533873\n",
      "Generation #11: elite = [9 3 0 6 1 5 7 8 2 4], fitness = 707.625331533873\n",
      "Generation #12: elite = [3 9 4 7 5 2 1 8 0 6], fitness = 685.0292803003275\n",
      "Generation #13: elite = [3 9 4 7 5 2 1 8 0 6], fitness = 685.0292803003275\n",
      "Generation #14: elite = [3 9 4 7 5 8 2 1 0 6], fitness = 635.7216290155668\n",
      "Generation #15: elite = [3 9 4 7 5 8 2 1 0 6], fitness = 635.7216290155668\n",
      "Generation #16: elite = [3 9 4 7 5 8 2 1 0 6], fitness = 635.7216290155668\n",
      "Generation #17: elite = [9 3 4 7 5 2 8 1 6 0], fitness = 635.030519192886\n",
      "Generation #18: elite = [3 9 4 7 5 2 8 1 0 6], fitness = 616.0122499790646\n",
      "Generation #19: elite = [3 9 4 7 5 2 8 1 0 6], fitness = 616.0122499790646\n",
      "Generation #20: elite = [3 9 4 7 5 2 8 1 6 0], fitness = 599.356033836614\n",
      "Generation #21: elite = [3 9 4 7 5 2 8 1 6 0], fitness = 599.356033836614\n",
      "Generation #22: elite = [3 9 4 7 5 2 8 1 6 0], fitness = 599.356033836614\n",
      "Generation #23: elite = [3 9 4 7 5 2 8 1 6 0], fitness = 599.356033836614\n",
      "Generation #24: elite = [3 9 4 7 5 2 8 1 6 0], fitness = 599.356033836614\n",
      "Generation #25: elite = [3 9 4 7 5 2 8 1 6 0], fitness = 599.356033836614\n",
      "Generation #26: elite = [3 9 4 7 5 2 8 1 6 0], fitness = 599.356033836614\n",
      "Generation #27: elite = [3 9 4 7 5 2 8 1 6 0], fitness = 599.356033836614\n",
      "Generation #28: elite = [3 9 4 7 5 2 8 1 6 0], fitness = 599.356033836614\n",
      "Generation #29: elite = [3 9 4 7 5 2 8 1 6 0], fitness = 599.356033836614\n",
      "Generation #30: elite = [3 9 4 7 5 2 8 1 6 0], fitness = 599.356033836614\n",
      "Generation #31: elite = [3 9 4 7 5 2 8 1 6 0], fitness = 599.356033836614\n",
      "Generation #32: elite = [3 9 4 7 5 2 8 1 6 0], fitness = 599.356033836614\n",
      "Generation #33: elite = [3 9 4 7 5 2 8 1 6 0], fitness = 599.356033836614\n",
      "Generation #34: elite = [3 9 4 7 5 2 8 1 6 0], fitness = 599.356033836614\n",
      "Generation #35: elite = [3 9 4 7 5 2 8 1 6 0], fitness = 599.356033836614\n",
      "Generation #36: elite = [3 9 4 7 5 2 8 1 6 0], fitness = 599.356033836614\n",
      "Generation #37: elite = [3 9 4 7 5 2 8 1 6 0], fitness = 599.356033836614\n",
      "Generation #38: elite = [3 9 4 7 5 2 8 1 6 0], fitness = 599.356033836614\n",
      "Generation #39: elite = [3 9 4 7 5 2 8 1 6 0], fitness = 599.356033836614\n",
      "Generation #40: elite = [3 9 4 7 5 2 8 1 6 0], fitness = 599.356033836614\n",
      "Generation #41: elite = [3 9 4 7 5 2 8 1 6 0], fitness = 599.356033836614\n",
      "Generation #42: elite = [3 9 4 7 5 2 8 1 6 0], fitness = 599.356033836614\n",
      "Generation #43: elite = [3 9 4 7 5 2 8 1 6 0], fitness = 599.356033836614\n",
      "Generation #44: elite = [3 9 4 7 5 2 8 1 6 0], fitness = 599.356033836614\n",
      "Generation #45: elite = [3 9 4 7 5 2 8 1 6 0], fitness = 599.356033836614\n",
      "Generation #46: elite = [3 9 4 7 5 2 8 1 6 0], fitness = 599.356033836614\n",
      "Generation #47: elite = [3 9 4 7 5 2 8 1 6 0], fitness = 599.356033836614\n",
      "Generation #48: elite = [3 9 4 7 5 2 8 1 6 0], fitness = 599.356033836614\n",
      "Generation #49: elite = [3 9 4 7 5 2 8 1 6 0], fitness = 599.356033836614\n",
      "Generation #50: elite = [3 9 4 7 5 2 8 1 6 0], fitness = 599.356033836614\n",
      "Generation #51: elite = [3 9 4 7 5 2 8 1 6 0], fitness = 599.356033836614\n",
      "Generation #52: elite = [3 9 4 7 5 2 8 1 6 0], fitness = 599.356033836614\n",
      "Generation #53: elite = [3 9 4 7 5 2 8 1 6 0], fitness = 599.356033836614\n",
      "Generation #54: elite = [3 9 4 7 5 2 8 1 6 0], fitness = 599.356033836614\n",
      "Generation #55: elite = [3 9 4 7 5 2 8 1 6 0], fitness = 599.356033836614\n",
      "Generation #56: elite = [3 9 4 7 5 2 8 1 6 0], fitness = 599.356033836614\n",
      "Generation #57: elite = [3 9 4 7 5 2 8 1 6 0], fitness = 599.356033836614\n",
      "Generation #58: elite = [3 9 4 7 5 2 8 1 6 0], fitness = 599.356033836614\n",
      "Generation #59: elite = [3 9 4 7 5 2 8 1 6 0], fitness = 599.356033836614\n",
      "Generation #60: elite = [3 9 4 7 5 2 8 1 6 0], fitness = 599.356033836614\n",
      "Generation #61: elite = [3 9 4 7 5 2 8 1 6 0], fitness = 599.356033836614\n",
      "Generation #62: elite = [3 9 4 7 5 2 8 1 6 0], fitness = 599.356033836614\n",
      "Generation #63: elite = [3 9 4 7 5 2 8 1 6 0], fitness = 599.356033836614\n",
      "Generation #64: elite = [3 9 4 7 5 2 8 1 6 0], fitness = 599.356033836614\n",
      "Generation #65: elite = [3 9 4 7 5 2 8 1 6 0], fitness = 599.356033836614\n",
      "Generation #66: elite = [3 9 4 7 5 2 8 1 6 0], fitness = 599.356033836614\n",
      "Generation #67: elite = [3 9 4 7 5 2 8 1 6 0], fitness = 599.356033836614\n",
      "Generation #68: elite = [3 9 4 7 5 2 8 1 6 0], fitness = 599.356033836614\n",
      "Generation #69: elite = [3 9 4 7 5 2 8 1 6 0], fitness = 599.356033836614\n",
      "Generation #70: elite = [3 9 4 7 5 2 8 1 6 0], fitness = 599.356033836614\n",
      "Generation #71: elite = [3 9 4 7 5 2 8 1 6 0], fitness = 599.356033836614\n",
      "Generation #72: elite = [3 9 4 7 5 2 8 1 6 0], fitness = 599.356033836614\n",
      "Generation #73: elite = [3 9 4 7 5 2 8 1 6 0], fitness = 599.356033836614\n",
      "Generation #74: elite = [3 9 4 7 5 2 8 1 6 0], fitness = 599.356033836614\n",
      "Generation #75: elite = [3 9 4 7 5 2 8 1 6 0], fitness = 599.356033836614\n",
      "Generation #76: elite = [3 9 4 7 5 2 8 1 6 0], fitness = 599.356033836614\n",
      "Generation #77: elite = [3 9 4 7 5 2 8 1 6 0], fitness = 599.356033836614\n",
      "Generation #78: elite = [3 9 4 7 5 2 8 1 6 0], fitness = 599.356033836614\n",
      "Generation #79: elite = [3 9 4 7 5 2 8 1 6 0], fitness = 599.356033836614\n",
      "Generation #80: elite = [3 9 4 7 5 2 8 1 6 0], fitness = 599.356033836614\n",
      "Generation #81: elite = [3 9 4 7 5 2 8 1 6 0], fitness = 599.356033836614\n",
      "Generation #82: elite = [3 9 4 7 5 2 8 1 6 0], fitness = 599.356033836614\n",
      "Generation #83: elite = [3 9 4 7 5 2 8 1 6 0], fitness = 599.356033836614\n",
      "Generation #84: elite = [3 9 4 7 5 2 8 1 6 0], fitness = 599.356033836614\n",
      "Generation #85: elite = [3 9 4 7 5 2 8 1 6 0], fitness = 599.356033836614\n",
      "Generation #86: elite = [3 9 4 7 5 2 8 1 6 0], fitness = 599.356033836614\n",
      "Generation #87: elite = [3 9 4 7 5 2 8 1 6 0], fitness = 599.356033836614\n",
      "Generation #88: elite = [3 9 4 7 5 2 8 1 6 0], fitness = 599.356033836614\n",
      "Generation #89: elite = [3 9 4 7 5 2 8 1 6 0], fitness = 599.356033836614\n",
      "Generation #90: elite = [3 9 4 7 5 2 8 1 6 0], fitness = 599.356033836614\n",
      "Generation #91: elite = [3 9 4 7 5 2 8 1 6 0], fitness = 599.356033836614\n",
      "Generation #92: elite = [3 9 4 7 5 2 8 1 6 0], fitness = 599.356033836614\n",
      "Generation #93: elite = [3 9 4 7 5 2 8 1 6 0], fitness = 599.356033836614\n",
      "Generation #94: elite = [3 9 4 7 5 2 8 1 6 0], fitness = 599.356033836614\n",
      "Generation #95: elite = [3 9 4 7 5 2 8 1 6 0], fitness = 599.356033836614\n",
      "Generation #96: elite = [3 9 4 7 5 2 8 1 6 0], fitness = 599.356033836614\n",
      "Generation #97: elite = [3 9 4 7 5 2 8 1 6 0], fitness = 599.356033836614\n",
      "Generation #98: elite = [3 9 4 7 5 2 8 1 6 0], fitness = 599.356033836614\n",
      "Generation #99: elite = [3 9 4 7 5 2 8 1 6 0], fitness = 599.356033836614\n",
      "[3 9 4 7 5 2 8 1 6 0] 599.356033836614\n"
     ]
    }
   ],
   "source": [
    "elite, elite_fx = TSPGeneticAlgorithm(nodesNames, nodesDictionary, distanceMatrix)\n",
    "print(elite, elite_fx)"
   ]
  },
  {
   "cell_type": "markdown",
   "metadata": {},
   "source": [
    "## 6) Plot the final solution"
   ]
  },
  {
   "cell_type": "code",
   "execution_count": 22,
   "metadata": {},
   "outputs": [
    {
     "data": {
      "image/png": "[encoded data removed]",
      "text/plain": [
       "<Figure size 432x288 with 1 Axes>"
      ]
     },
     "metadata": {
      "needs_background": "light"
     },
     "output_type": "display_data"
    }
   ],
   "source": [
    "plt.figure()\n",
    "\n",
    "for pos in nodesPosition:\n",
    "    plt.scatter(pos[0], pos[1], color='b')\n",
    "\n",
    "for i in range(len(elite)-1):\n",
    "    plt.plot([nodesPosition[elite[i]][0], nodesPosition[elite[i+1]][0]], [nodesPosition[elite[i]][1], nodesPosition[elite[i+1]][1]], color='g', linestyle='--')\n",
    "plt.plot([nodesPosition[elite[-1]][0], nodesPosition[elite[0]][0]], [nodesPosition[elite[-1]][1], nodesPosition[elite[0]][1]], color='g', linestyle='--')\n",
    "    \n",
    "\n",
    "plt.show()"
   ]
  }
 ],
 "metadata": {
  "kernelspec": {
   "display_name": "Python 3 (ipykernel)",
   "language": "python",
   "name": "python3"
  },
  "language_info": {
   "codemirror_mode": {
    "name": "ipython",
    "version": 3
   },
   "file_extension": ".py",
   "mimetype": "text/x-python",
   "name": "python",
   "nbconvert_exporter": "python",
   "pygments_lexer": "ipython3",
   "version": "3.9.7"
  },
  "vscode": {
   "interpreter": {
    "hash": "916dbcbb3f70747c44a77c7bcd40155683ae19c65e1c03b4aa3499c5328201f1"
   }
  }
 },
 "nbformat": 4,
 "nbformat_minor": 2
}
