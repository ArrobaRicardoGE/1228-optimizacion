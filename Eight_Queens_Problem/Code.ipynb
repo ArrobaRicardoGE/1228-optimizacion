{
 "cells": [
  {
   "cell_type": "markdown",
   "id": "a94ba337",
   "metadata": {},
   "source": [
    "# Genetic algorithm: Eight Queens Problem\n",
    "**Ricardo Antonio Gutiérrez Esparza \\\n",
    "Juan Marquina Cancino**"
   ]
  },
  {
   "cell_type": "code",
   "execution_count": 1,
   "id": "378ab928",
   "metadata": {},
   "outputs": [],
   "source": [
    "import pandas as pd\n",
    "import numpy as np\n",
    "from numpy.random import default_rng\n",
    "import matplotlib.pyplot as plt"
   ]
  },
  {
   "cell_type": "code",
   "execution_count": 2,
   "id": "ebc2bab0",
   "metadata": {},
   "outputs": [],
   "source": [
    "rng = default_rng(6502729091)"
   ]
  },
  {
   "cell_type": "markdown",
   "id": "bcbb9bbe",
   "metadata": {},
   "source": [
    "## Genotype definition\n",
    "\n",
    "Array of N elements. Each element represents the row where the piece sits in that column"
   ]
  },
  {
   "cell_type": "markdown",
   "id": "194c4667",
   "metadata": {},
   "source": [
    "## Objective function"
   ]
  },
  {
   "cell_type": "code",
   "execution_count": 3,
   "id": "58e1bf3a",
   "metadata": {},
   "outputs": [],
   "source": [
    "def ObjectiveFunction(genotype):\n",
    "    '''Returns the number of columns, rows and diagonals where an attack occurs\n",
    "    '''\n",
    "    N = len(genotype)\n",
    "    rows = np.zeros(N, dtype=bool)\n",
    "    diag = np.zeros(N * 2 - 1, dtype=bool)\n",
    "    invDiag = np.zeros(N * 2 - 1, dtype=bool)\n",
    "    ans = 0\n",
    "    for c,r in enumerate(genotype):\n",
    "        if rows[r] or diag[N - 1 + c - r] or invDiag[c + r]:\n",
    "            ans += 1\n",
    "        rows[r] = diag[N - 1 + c - r] = invDiag[c + r] = True\n",
    "    \n",
    "    return ans"
   ]
  },
  {
   "cell_type": "code",
   "execution_count": 4,
   "id": "7e8a6a2e",
   "metadata": {},
   "outputs": [],
   "source": [
    "def SolutionPermutation(N):\n",
    "    '''Returns a random solution (not necessarily valid)\n",
    "    '''\n",
    "    return rng.permutation(N)"
   ]
  },
  {
   "cell_type": "markdown",
   "id": "b224f1f7",
   "metadata": {},
   "source": [
    "## Genetic Algorithm"
   ]
  },
  {
   "cell_type": "code",
   "execution_count": 5,
   "id": "a1fda79c",
   "metadata": {},
   "outputs": [],
   "source": [
    "def ParentSelectionRoulette(fitness):\n",
    "    '''\n",
    "        Input:  fitness -> Array of pop_size elements\n",
    "        Output: Index of selected parent\n",
    "    '''\n",
    "    total = np.sum(fitness)\n",
    "    roulette = np.cumsum(fitness / total)\n",
    "    \n",
    "    i = 0\n",
    "    dart = rng.uniform()\n",
    "    while roulette[i] < dart:\n",
    "        i += 1\n",
    "    return i"
   ]
  },
  {
   "cell_type": "code",
   "execution_count": 6,
   "id": "daedcdb7",
   "metadata": {},
   "outputs": [],
   "source": [
    "def ParentSelectionTournament(fitness, k=2):\n",
    "    '''\n",
    "        Input:  fitness -> Array of pop_size elements\n",
    "                k -> size of tournament\n",
    "        Output: Index of selected parent\n",
    "    '''\n",
    "    selection = rng.permutation(len(fitness))\n",
    "    not_selection = selection[k:]\n",
    "    raffle = fitness.copy()\n",
    "    raffle[not_selection] = np.max(raffle) + 1\n",
    "    return np.argmin(raffle)"
   ]
  },
  {
   "cell_type": "code",
   "execution_count": 7,
   "id": "4876cba1",
   "metadata": {},
   "outputs": [],
   "source": [
    "def CrossoverSimplePermutation(parent1, parent2):\n",
    "    cut = rng.integers(low=0, high=len(parent1))\n",
    "    offspring = np.append(parent1[:cut], parent2[cut:])\n",
    "    \n",
    "    used = np.zeros(len(parent1), dtype=int)\n",
    "    for x in offspring:\n",
    "        used[x] += 1\n",
    "    unused = []\n",
    "    for i,x in enumerate(used):\n",
    "        if x == 0:\n",
    "            unused.append(i)\n",
    "    unused = rng.permutation(unused)\n",
    "    \n",
    "    for i,x in enumerate(offspring):\n",
    "        if used[x] > 1:\n",
    "            used[x] -= 1\n",
    "            offspring[i] = unused[-1]\n",
    "            unused = unused[:-1]\n",
    "            \n",
    "    return offspring"
   ]
  },
  {
   "cell_type": "code",
   "execution_count": 8,
   "id": "66545ebb",
   "metadata": {},
   "outputs": [],
   "source": [
    "def CrossoverPartiallyMapped(parent1, parent2):\n",
    "    cut1 = rng.integers(low=0, high=len(parent1))\n",
    "    cut2 = rng.integers(low=cut1, high=len(parent1))\n",
    "    offspring = np.append(parent2[:cut1], parent1[cut1:cut2])\n",
    "    offspring = np.append(offspring, parent2[cut2:])\n",
    "    \n",
    "    used = np.zeros(len(parent1), dtype=int)\n",
    "    for x in offspring:\n",
    "        used[x] += 1\n",
    "    unused = []\n",
    "    for x in parent2[cut1:cut2]:\n",
    "        if used[x] == 0:\n",
    "            unused.append(x)\n",
    "    unused = unused[::-1]\n",
    "    \n",
    "    for i,x in enumerate(offspring[:cut1]):\n",
    "        if used[x] > 1:\n",
    "            used[x] -= 1\n",
    "            offspring[i] = unused[-1]\n",
    "            unused = unused[:-1]\n",
    "            \n",
    "    for i,x in enumerate(offspring[cut2:]):\n",
    "        if used[x] > 1:\n",
    "            used[x] -= 1\n",
    "            offspring[i + cut2] = unused[-1]\n",
    "            unused = unused[:-1]\n",
    "    \n",
    "    return offspring\n",
    "    "
   ]
  },
  {
   "cell_type": "code",
   "execution_count": 9,
   "id": "a4985457",
   "metadata": {},
   "outputs": [],
   "source": [
    "def MutationSwap(genotype):\n",
    "    g = rng.integers(low=0, high=len(genotype), size=2)\n",
    "    \n",
    "    genotype[g[0]], genotype[g[1]] = genotype[g[1]], genotype[g[0]]\n",
    "    \n",
    "    return genotype"
   ]
  },
  {
   "cell_type": "code",
   "execution_count": 10,
   "id": "4d351505",
   "metadata": {},
   "outputs": [],
   "source": [
    "def EQPCrossover(population, fitness, Pr):\n",
    "    '''For this problem, we found that Tournament and Simple Permutation\n",
    "       give the better results.\n",
    "    '''\n",
    "    new_population = []\n",
    "    for i in range(len(population)): \n",
    "        if(rng.random() < Pr):\n",
    "            parent1 = population[ParentSelectionTournament(fitness)]\n",
    "            parent2 = population[ParentSelectionTournament(fitness)]\n",
    "            new_population.append(CrossoverSimplePermutation(parent1, parent2))\n",
    "        else:\n",
    "            new_population.append(population[ParentSelectionTournament(fitness)])\n",
    "    \n",
    "    return new_population"
   ]
  },
  {
   "cell_type": "code",
   "execution_count": 11,
   "id": "397ed5dd",
   "metadata": {},
   "outputs": [],
   "source": [
    "def EQPMutation(population, Pm):\n",
    "    new_population = []\n",
    "    for genotype in population:\n",
    "        new_population.append(MutationSwap(genotype) if rng.random() < Pm else genotype)\n",
    "    return new_population"
   ]
  },
  {
   "cell_type": "code",
   "execution_count": 12,
   "id": "8d5f4a83",
   "metadata": {},
   "outputs": [],
   "source": [
    "def EQPGeneticAlgorithm(boardSize=8, N=30, G=100, Pr=0.8, Pm=0.3):\n",
    "    population = [SolutionPermutation(boardSize) for i in range(N)]\n",
    "    fitness = np.array([ObjectiveFunction(genotype) for genotype in population])\n",
    "    elite = population[np.argmin(fitness)].copy()\n",
    "    elite_fx = np.min(fitness)\n",
    "    \n",
    "    current_g = 0\n",
    "    while current_g < G:\n",
    "        print(f'Generation #{current_g}: elite = {elite}, fitness = {elite_fx}')\n",
    "        population = EQPCrossover(population, fitness, Pr)\n",
    "        population = EQPMutation(population, Pm)\n",
    "        fitness = np.array([ObjectiveFunction(genotype) for genotype in population])\n",
    "        if(np.min(fitness) > elite_fx):\n",
    "            max_idx = np.argmax(fitness)\n",
    "            population[max_idx] = elite\n",
    "            fitness[max_idx] = elite_fx\n",
    "        else:\n",
    "            elite = population[np.argmin(fitness)].copy()\n",
    "            elite_fx = np.min(fitness)\n",
    "            \n",
    "        current_g += 1\n",
    "    \n",
    "    return elite, elite_fx\n",
    "    "
   ]
  },
  {
   "cell_type": "code",
   "execution_count": 17,
   "id": "5d983208",
   "metadata": {},
   "outputs": [
    {
     "name": "stdout",
     "output_type": "stream",
     "text": [
      "Generation #0: elite = [7 2 6 3 0 4 1 5], fitness = 1\n",
      "Generation #1: elite = [7 2 6 3 0 4 1 5], fitness = 1\n",
      "Generation #2: elite = [7 2 6 3 0 4 1 5], fitness = 1\n",
      "Generation #3: elite = [6 0 5 3 1 7 4 2], fitness = 1\n",
      "Generation #4: elite = [3 1 4 2 0 6 7 5], fitness = 1\n",
      "Generation #5: elite = [3 1 4 2 0 6 7 5], fitness = 1\n",
      "Generation #6: elite = [3 1 4 2 0 6 7 5], fitness = 1\n",
      "Generation #7: elite = [4 6 0 5 1 3 7 2], fitness = 1\n",
      "Generation #8: elite = [3 1 4 2 0 6 7 5], fitness = 1\n",
      "Generation #9: elite = [3 6 0 7 1 4 2 5], fitness = 1\n",
      "Generation #10: elite = [7 0 5 3 1 6 4 2], fitness = 1\n",
      "Generation #11: elite = [3 6 0 5 4 1 7 2], fitness = 1\n",
      "Generation #12: elite = [4 2 0 6 1 3 5 7], fitness = 1\n",
      "Generation #13: elite = [7 0 5 3 1 6 4 2], fitness = 1\n",
      "Generation #14: elite = [4 2 0 6 1 3 5 7], fitness = 1\n",
      "Generation #15: elite = [4 2 0 6 1 3 5 7], fitness = 1\n",
      "Generation #16: elite = [4 7 5 3 1 6 0 2], fitness = 1\n",
      "Generation #17: elite = [4 7 5 3 1 6 0 2], fitness = 1\n",
      "Generation #18: elite = [4 7 5 3 1 6 0 2], fitness = 1\n",
      "Generation #19: elite = [4 7 5 3 1 6 0 2], fitness = 1\n",
      "Generation #20: elite = [4 7 5 3 1 6 0 2], fitness = 1\n",
      "Generation #21: elite = [5 7 4 1 3 6 0 2], fitness = 1\n",
      "Generation #22: elite = [4 7 5 3 1 6 0 2], fitness = 1\n",
      "Generation #23: elite = [4 7 5 3 1 6 0 2], fitness = 1\n",
      "Generation #24: elite = [0 7 5 3 1 6 4 2], fitness = 1\n",
      "Generation #25: elite = [4 7 5 3 1 6 0 2], fitness = 1\n",
      "Generation #26: elite = [4 7 5 3 1 6 0 2], fitness = 1\n",
      "Generation #27: elite = [4 7 5 3 1 6 0 2], fitness = 1\n",
      "Generation #28: elite = [2 7 5 3 1 6 4 0], fitness = 1\n",
      "Generation #29: elite = [4 7 5 3 1 6 0 2], fitness = 1\n",
      "Generation #30: elite = [4 7 5 3 1 6 0 2], fitness = 1\n",
      "Generation #31: elite = [4 0 5 3 1 6 7 2], fitness = 1\n",
      "Generation #32: elite = [0 7 5 3 1 6 4 2], fitness = 1\n",
      "Generation #33: elite = [7 0 5 3 1 6 4 2], fitness = 1\n",
      "Generation #34: elite = [0 7 5 3 1 6 4 2], fitness = 1\n",
      "Generation #35: elite = [4 7 5 3 1 6 0 2], fitness = 1\n",
      "Generation #36: elite = [0 7 5 3 1 6 4 2], fitness = 1\n",
      "Generation #37: elite = [4 7 5 3 1 6 0 2], fitness = 1\n",
      "Generation #38: elite = [4 7 5 3 1 6 0 2], fitness = 1\n",
      "Generation #39: elite = [4 7 5 3 1 6 0 2], fitness = 1\n",
      "Generation #40: elite = [4 7 5 3 1 6 0 2], fitness = 1\n",
      "Generation #41: elite = [4 7 5 3 1 6 0 2], fitness = 1\n",
      "Generation #42: elite = [0 7 5 3 1 6 4 2], fitness = 1\n",
      "Generation #43: elite = [4 7 5 3 1 6 0 2], fitness = 1\n",
      "Generation #44: elite = [4 7 5 3 1 6 0 2], fitness = 1\n",
      "Generation #45: elite = [4 7 0 3 1 6 5 2], fitness = 1\n",
      "Generation #46: elite = [4 7 0 3 1 6 5 2], fitness = 1\n",
      "Generation #47: elite = [4 7 0 3 1 6 5 2], fitness = 1\n",
      "Generation #48: elite = [0 7 5 3 1 6 4 2], fitness = 1\n",
      "Generation #49: elite = [4 7 5 3 1 6 0 2], fitness = 1\n",
      "Generation #50: elite = [4 7 5 3 1 6 0 2], fitness = 1\n",
      "Generation #51: elite = [4 7 5 3 1 6 0 2], fitness = 1\n",
      "Generation #52: elite = [4 7 5 3 1 6 0 2], fitness = 1\n",
      "Generation #53: elite = [4 7 5 3 1 6 0 2], fitness = 1\n",
      "Generation #54: elite = [4 7 5 3 1 6 0 2], fitness = 1\n",
      "Generation #55: elite = [4 7 5 3 1 6 0 2], fitness = 1\n",
      "Generation #56: elite = [4 7 5 3 1 6 0 2], fitness = 1\n",
      "Generation #57: elite = [4 7 5 3 1 6 0 2], fitness = 1\n",
      "Generation #58: elite = [4 7 5 3 1 6 0 2], fitness = 1\n",
      "Generation #59: elite = [4 7 5 3 1 6 0 2], fitness = 1\n",
      "Generation #60: elite = [4 7 5 3 1 6 0 2], fitness = 1\n",
      "Generation #61: elite = [4 7 5 2 1 6 0 3], fitness = 1\n",
      "Generation #62: elite = [4 7 5 2 1 6 0 3], fitness = 1\n",
      "Generation #63: elite = [4 7 5 2 1 6 0 3], fitness = 1\n",
      "Generation #64: elite = [4 6 0 3 1 7 5 2], fitness = 0\n",
      "Generation #65: elite = [4 6 0 3 1 7 5 2], fitness = 0\n",
      "Generation #66: elite = [4 6 0 3 1 7 5 2], fitness = 0\n",
      "Generation #67: elite = [4 6 0 3 1 7 5 2], fitness = 0\n",
      "Generation #68: elite = [4 6 0 3 1 7 5 2], fitness = 0\n",
      "Generation #69: elite = [4 6 0 3 1 7 5 2], fitness = 0\n",
      "Generation #70: elite = [4 6 0 3 1 7 5 2], fitness = 0\n",
      "Generation #71: elite = [4 6 0 3 1 7 5 2], fitness = 0\n",
      "Generation #72: elite = [4 6 0 3 1 7 5 2], fitness = 0\n",
      "Generation #73: elite = [4 6 0 3 1 7 5 2], fitness = 0\n",
      "Generation #74: elite = [4 6 0 3 1 7 5 2], fitness = 0\n",
      "Generation #75: elite = [4 6 0 3 1 7 5 2], fitness = 0\n",
      "Generation #76: elite = [4 6 0 3 1 7 5 2], fitness = 0\n",
      "Generation #77: elite = [4 6 0 3 1 7 5 2], fitness = 0\n",
      "Generation #78: elite = [4 6 0 3 1 7 5 2], fitness = 0\n",
      "Generation #79: elite = [4 6 0 3 1 7 5 2], fitness = 0\n",
      "Generation #80: elite = [4 6 0 3 1 7 5 2], fitness = 0\n",
      "Generation #81: elite = [4 6 0 3 1 7 5 2], fitness = 0\n",
      "Generation #82: elite = [4 6 0 3 1 7 5 2], fitness = 0\n",
      "Generation #83: elite = [4 6 0 3 1 7 5 2], fitness = 0\n",
      "Generation #84: elite = [4 6 0 3 1 7 5 2], fitness = 0\n",
      "Generation #85: elite = [4 6 0 3 1 7 5 2], fitness = 0\n",
      "Generation #86: elite = [4 6 0 3 1 7 5 2], fitness = 0\n",
      "Generation #87: elite = [4 6 0 3 1 7 5 2], fitness = 0\n",
      "Generation #88: elite = [4 6 0 3 1 7 5 2], fitness = 0\n",
      "Generation #89: elite = [4 6 0 3 1 7 5 2], fitness = 0\n",
      "Generation #90: elite = [4 6 0 3 1 7 5 2], fitness = 0\n",
      "Generation #91: elite = [4 6 0 3 1 7 5 2], fitness = 0\n",
      "Generation #92: elite = [4 6 0 3 1 7 5 2], fitness = 0\n",
      "Generation #93: elite = [4 6 0 3 1 7 5 2], fitness = 0\n",
      "Generation #94: elite = [4 6 0 3 1 7 5 2], fitness = 0\n",
      "Generation #95: elite = [4 6 0 3 1 7 5 2], fitness = 0\n",
      "Generation #96: elite = [4 6 0 3 1 7 5 2], fitness = 0\n",
      "Generation #97: elite = [4 6 0 3 1 7 5 2], fitness = 0\n",
      "Generation #98: elite = [4 6 0 3 1 7 5 2], fitness = 0\n",
      "Generation #99: elite = [4 6 0 3 1 7 5 2], fitness = 0\n",
      "[4 6 0 3 1 7 5 2] 0\n"
     ]
    }
   ],
   "source": [
    "elite, elite_fx = EQPGeneticAlgorithm(8)\n",
    "print(elite, elite_fx)"
   ]
  },
  {
   "cell_type": "markdown",
   "id": "b5565edd",
   "metadata": {},
   "source": [
    "## Plot solution"
   ]
  },
  {
   "cell_type": "code",
   "execution_count": 18,
   "id": "8682d380",
   "metadata": {},
   "outputs": [
    {
     "data": {
      "image/png": "[encoded data removed]",
      "text/plain": [
       "<Figure size 288x288 with 1 Axes>"
      ]
     },
     "metadata": {
      "needs_background": "light"
     },
     "output_type": "display_data"
    }
   ],
   "source": [
    "nrows, ncols = len(elite), len(elite)\n",
    "image = np.zeros(nrows*ncols)\n",
    "\n",
    "for i in range(nrows):\n",
    "    begin = i * nrows + (1 if i % 2 else 0)\n",
    "    image[begin:begin + nrows:2] = 1\n",
    "\n",
    "for r,c in enumerate(elite):\n",
    "    image[r * nrows + c] = 0.5\n",
    "\n",
    "image = image.reshape((nrows, ncols))\n",
    "\n",
    "plt.matshow(image, cmap='afmhot')\n",
    "plt.show()"
   ]
  }
 ],
 "metadata": {
  "kernelspec": {
   "display_name": "Python 3 (ipykernel)",
   "language": "python",
   "name": "python3"
  },
  "language_info": {
   "codemirror_mode": {
    "name": "ipython",
    "version": 3
   },
   "file_extension": ".py",
   "mimetype": "text/x-python",
   "name": "python",
   "nbconvert_exporter": "python",
   "pygments_lexer": "ipython3",
   "version": "3.9.7"
  }
 },
 "nbformat": 4,
 "nbformat_minor": 5
}
