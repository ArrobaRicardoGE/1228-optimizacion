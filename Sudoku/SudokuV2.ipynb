{
 "cells": [
  {
   "cell_type": "markdown",
   "id": "c49de8ed",
   "metadata": {},
   "source": [
    "# Genetic algorithm: Sudoku V2"
   ]
  },
  {
   "cell_type": "code",
   "execution_count": null,
   "id": "f427194e",
   "metadata": {},
   "outputs": [],
   "source": [
    "import pandas as pd\n",
    "import numpy as np\n",
    "from numpy.random import default_rng\n",
    "import matplotlib.pyplot as plt\n",
    "import csv\n",
    "rng = default_rng(6502729091)"
   ]
  },
  {
   "cell_type": "markdown",
   "id": "c14dc719",
   "metadata": {},
   "source": [
    "## Genotype definition\n",
    "Array of 81 elements. Every 9 elements represent an inner square, starting from the top left to the bottom right."
   ]
  },
  {
   "cell_type": "code",
   "execution_count": null,
   "id": "26403e8b",
   "metadata": {},
   "outputs": [],
   "source": [
    "def SquareToLinear(arr):\n",
    "    result = np.zeros(81, dtype=int)\n",
    "    for i in range(3):\n",
    "        for j in range(3):\n",
    "            idx = i * 3 + j\n",
    "            result[idx * 9 : (idx + 1) * 9] = np.reshape(arr[i * 3:(i + 1) * 3, j * 3 : (j + 1) * 3], (9))\n",
    "    return result"
   ]
  },
  {
   "cell_type": "code",
   "execution_count": null,
   "id": "6e13b76a",
   "metadata": {},
   "outputs": [],
   "source": [
    "def LinearToSquare(arr):\n",
    "    result = np.zeros((9,9), dtype=int)\n",
    "    for i in range(3):\n",
    "        for j in range(3):\n",
    "            idx = i * 3 + j\n",
    "            result[i * 3:(i + 1) * 3, j * 3:(j + 1) * 3] = np.reshape(arr[idx * 9 : (idx + 1) * 9], (3,3))\n",
    "    return result"
   ]
  },
  {
   "cell_type": "code",
   "execution_count": null,
   "id": "0551b21a",
   "metadata": {},
   "outputs": [],
   "source": [
    "def FillObvious(genotype):\n",
    "    board = LinearToSquare(genotype)\n",
    "    possible = np.array([[{1,2,3,4,5,6,7,8,9} for i in range(9)] for i in range(9)])\n",
    "    \n",
    "    def DiscardRow(r, x):\n",
    "        for s in possible[r]:\n",
    "            s.discard(x)\n",
    "    def DiscardColumn(c, x):\n",
    "        for s in possible[:,c]:\n",
    "            s.discard(x)\n",
    "    def DiscardInnerSquare(n, m, x):\n",
    "        for r in possible[n * 3:(n + 1) * 3, m * 3:(m + 1) * 3]:\n",
    "            for s in r:\n",
    "                s.discard(x)\n",
    "    \n",
    "    for i in range(9):\n",
    "        for j in range(9):\n",
    "            if board[i,j] != 0:\n",
    "                DiscardRow(i, board[i,j])\n",
    "                DiscardColumn(j, board[i,j])\n",
    "                DiscardInnerSquare(i // 3, j // 3, board[i,j])\n",
    "    \n",
    "    changed = 0\n",
    "    for i in range(9):\n",
    "        for j in range(9):\n",
    "            if len(possible[i,j]) == 1 and board[i,j] == 0:\n",
    "                board[i,j] = list(possible[i,j])[0]\n",
    "                changed += 1\n",
    "    \n",
    "    print(f'Filled {changed} values')\n",
    "    return SquareToLinear(board)"
   ]
  },
  {
   "cell_type": "code",
   "execution_count": null,
   "id": "a81201db",
   "metadata": {},
   "outputs": [],
   "source": [
    "def ObjectiveFunction(genotype):\n",
    "    ans = 0\n",
    "    # Rows\n",
    "    raux = np.reshape(genotype, (9,9))\n",
    "    for i in range(3):\n",
    "        for j in range(3):\n",
    "            ans += 9 - len(np.unique(raux[i * 3 : (i + 1) * 3, j * 3 : (j + 1) * 3]))\n",
    "    \n",
    "    # Columns\n",
    "    caux = np.reshape(genotype, (9,3,3))\n",
    "    for i in range(3):\n",
    "        for j in range(3):\n",
    "            ans += 9 - len(np.unique(caux[i::3][:,:,j]))\n",
    "    \n",
    "    return ans"
   ]
  },
  {
   "cell_type": "code",
   "execution_count": null,
   "id": "f4d3e383",
   "metadata": {},
   "outputs": [],
   "source": [
    "def SolutionPermutation(initialState):\n",
    "    solution = np.zeros(81, dtype=int)\n",
    "    for i in range(9):\n",
    "        perm = rng.permutation(9) + 1\n",
    "        for j, x in enumerate(initialState[i * 9 : (i + 1) * 9]):\n",
    "            if x != 0:\n",
    "                perm[np.where(perm == x)[0]] = perm[j]\n",
    "                perm[j] = x\n",
    "        solution[i * 9 : (i + 1) * 9] = perm.copy()\n",
    "        \n",
    "    return solution"
   ]
  },
  {
   "cell_type": "code",
   "execution_count": null,
   "id": "df802aeb",
   "metadata": {},
   "outputs": [],
   "source": [
    "def ReadFromCSV(path):\n",
    "    ans = np.zeros((9,9), dtype=int)\n",
    "    with open(path) as f:\n",
    "        csvf = csv.reader(f, delimiter=',')\n",
    "        for i, r in enumerate(csvf):\n",
    "            ans[i] = r\n",
    "    \n",
    "    return SquareToLinear(ans)"
   ]
  },
  {
   "cell_type": "markdown",
   "id": "2b52d3ca",
   "metadata": {},
   "source": [
    "## Genetic Algorithm"
   ]
  },
  {
   "cell_type": "code",
   "execution_count": null,
   "id": "0277d702",
   "metadata": {},
   "outputs": [],
   "source": [
    "def ParentSelectionTournament(fitness, k=2):\n",
    "    '''\n",
    "        Input:  fitness -> Array of pop_size elements\n",
    "                k -> size of tournament\n",
    "        Output: Index of selected parent\n",
    "    '''\n",
    "    selection = rng.permutation(len(fitness))\n",
    "    not_selection = selection[k:]\n",
    "    raffle = fitness.copy()\n",
    "    raffle[not_selection] = np.max(raffle) + 1\n",
    "    return np.argmin(raffle)"
   ]
  },
  {
   "cell_type": "code",
   "execution_count": null,
   "id": "22ee1e34",
   "metadata": {},
   "outputs": [],
   "source": [
    "def CrossoverSimplePermutation(parent1, parent2):\n",
    "    final_offspring = []\n",
    "    cut = rng.integers(low=1, high=8)\n",
    "    return np.append(parent1[:cut * 9], parent2[cut * 9:])"
   ]
  },
  {
   "cell_type": "code",
   "execution_count": null,
   "id": "a91457fa",
   "metadata": {},
   "outputs": [],
   "source": [
    "def MutationSwap(genotype, initialState):\n",
    "    mutated = genotype.copy()\n",
    "    helper = np.reshape(initialState, (9,9))\n",
    "    mutated = np.reshape(mutated, (9,9))\n",
    "    \n",
    "    r_idx, cnt_not_fixed = None, None\n",
    "    while True:\n",
    "        r_idx = rng.integers(low=0, high=9)\n",
    "        cnt_not_fixed = np.count_nonzero(helper[r_idx] == 0)\n",
    "        if cnt_not_fixed >= 2:\n",
    "            break\n",
    "    \n",
    "    g = rng.integers(low=0, high=cnt_not_fixed, size=2)\n",
    "    \n",
    "    c_idx1 = 0\n",
    "    for i,x in enumerate(helper[r_idx]): \n",
    "        if g[0] == 0 and x == 0:\n",
    "            c_idx1 = i\n",
    "            break\n",
    "        if x == 0:\n",
    "            g[0] -= 1\n",
    "    \n",
    "    c_idx2 = 0\n",
    "    for i,x in enumerate(helper[r_idx]): \n",
    "        if g[1] == 0 and x == 0:\n",
    "            c_idx2 = i\n",
    "            break\n",
    "        if x == 0:\n",
    "            g[1] -= 1\n",
    "    \n",
    "    mutated[r_idx,c_idx1], mutated[r_idx,c_idx2] = mutated[r_idx,c_idx2], mutated[r_idx,c_idx1]\n",
    "    return np.reshape(mutated, (81))"
   ]
  },
  {
   "cell_type": "code",
   "execution_count": null,
   "id": "14603998",
   "metadata": {},
   "outputs": [],
   "source": [
    "def SudokuCrossover(population, fitness, Pr):\n",
    "    new_population = np.zeros(population.shape, dtype=int)\n",
    "    for i in range(len(population)): \n",
    "        if(rng.random() < Pr):\n",
    "            parent1 = population[ParentSelectionTournament(fitness)]\n",
    "            parent2 = population[ParentSelectionTournament(fitness)]\n",
    "            new_population[i] = CrossoverSimplePermutation(parent1, parent2)\n",
    "        else:\n",
    "            new_population[i] = population[ParentSelectionTournament(fitness)]\n",
    "    \n",
    "    return new_population"
   ]
  },
  {
   "cell_type": "code",
   "execution_count": null,
   "id": "52e5e33f",
   "metadata": {},
   "outputs": [],
   "source": [
    "def SudokuMutation(population, initialMutation, Pm):\n",
    "    new_population = np.zeros(population.shape, dtype=int)\n",
    "    for i, genotype in enumerate(population):\n",
    "        new_population[i] = MutationSwap(genotype, initialMutation) if rng.random() < Pm else genotype\n",
    "    return new_population"
   ]
  },
  {
   "cell_type": "code",
   "execution_count": null,
   "id": "f79e2607",
   "metadata": {},
   "outputs": [],
   "source": [
    "def SudokuGeneticAlgorithm(initialState, N=30, G=100, Pr=0.8, Pm=0.3):\n",
    "    population = np.array([SolutionPermutation(initialState) for i in range(N)])\n",
    "    fitness = np.array([ObjectiveFunction(genotype) for genotype in population])\n",
    "    elite = population[np.argmin(fitness)].copy()\n",
    "    elite_fx = np.min(fitness)\n",
    "    \n",
    "    current_g = 0\n",
    "    elite_last_updated = 0\n",
    "    while current_g < G and elite_fx != 0:\n",
    "        if current_g % 100 == 0:\n",
    "            print(f'Generation #{current_g}: fitness = {elite_fx}')\n",
    "            print(f'min = {np.min(fitness)}, max = {np.max(fitness)}, mean = {np.mean(fitness)}, std = {np.std(fitness)}')\n",
    "        \n",
    "        '''\n",
    "        if current_g - elite_last_updated >= 2000:\n",
    "            print('-----Restarting population-----')\n",
    "            population = np.array([SolutionPermutation(initialState) for i in range(N)])\n",
    "            fitness = np.array([ObjectiveFunction(genotype) for genotype in population])\n",
    "            max_idx = ParentSelectionTournament(fitness * -1)\n",
    "            population[max_idx] = elite\n",
    "            fitness[max_idx] = elite_fx\n",
    "            elite_last_updated = current_g\n",
    "        '''\n",
    "            \n",
    "        population = SudokuCrossover(population, fitness, Pr)\n",
    "        population = SudokuMutation(population, initialState, Pm)\n",
    "        fitness = np.array([ObjectiveFunction(genotype) for genotype in population])\n",
    "        if(np.min(fitness) > elite_fx):\n",
    "            max_idx = ParentSelectionTournament(fitness * -1)\n",
    "            population[max_idx] = elite\n",
    "            fitness[max_idx] = elite_fx\n",
    "        else:\n",
    "            if np.min(fitness) != elite_fx:\n",
    "                elite_last_updated = current_g\n",
    "            elite = population[np.argmin(fitness)].copy()\n",
    "            elite_fx = np.min(fitness)\n",
    "            \n",
    "        current_g += 1\n",
    "    \n",
    "    return elite, elite_fx"
   ]
  },
  {
   "cell_type": "code",
   "execution_count": null,
   "id": "dda2693b",
   "metadata": {},
   "outputs": [],
   "source": [
    "def SolveSudokuFromCSV(path):\n",
    "    initialState = ReadFromCSV(path)\n",
    "    initialState = FillObvious(initialState)\n",
    "    elite, elite_fx = SudokuGeneticAlgorithm(initialState, N=80, G=100000, Pm=0.3)\n",
    "    elite = LinearToSquare(elite)\n",
    "    initialState = LinearToSquare(initialState)\n",
    "    nrows, ncols = len(elite), len(elite)\n",
    "    image = np.zeros(nrows*ncols)\n",
    "\n",
    "    def highlight_cell(x,y, ax=None, **kwargs):\n",
    "        rect = plt.Rectangle((x-.5, y-.5), 1,1, fill=False, **kwargs)\n",
    "        ax = ax or plt.gca()\n",
    "        ax.add_patch(rect)\n",
    "        return rect\n",
    "\n",
    "    def highlight_separator(x, y, **kwargs):\n",
    "        wx, wy = 0, 10\n",
    "        if x == 0:\n",
    "            wx, wy = wy, wx\n",
    "        rect = plt.Rectangle((x-.5, y-0.5), wx, wy, fill=False, **kwargs)\n",
    "        ax = plt.gca()\n",
    "        ax.add_patch(rect)\n",
    "        return rect\n",
    "\n",
    "    image = image.reshape((nrows, ncols))\n",
    "\n",
    "    plt.matshow(image, cmap='afmhot')\n",
    "    for i in range(nrows):\n",
    "        for j in range(ncols):\n",
    "            highlight_cell(i, j, color='white', linewidth=2)\n",
    "    highlight_separator(3, 0, color='white', linewidth=6)\n",
    "    highlight_separator(6, 0, color='white', linewidth=6)\n",
    "    highlight_separator(0, 3, color='white', linewidth=6)\n",
    "    highlight_separator(0, 6, color='white', linewidth=6)\n",
    "\n",
    "    for i, r in enumerate(elite):\n",
    "        for j, x in enumerate(r):\n",
    "            color = 'pink' if initialState[i,j] != 0 else 'white'\n",
    "            plt.text(j, i, x, color=color, horizontalalignment='center', verticalalignment='center', fontsize=14, fontweight='bold')\n",
    "\n",
    "    plt.show()"
   ]
  },
  {
   "cell_type": "code",
   "execution_count": null,
   "id": "2a014fdd",
   "metadata": {},
   "outputs": [],
   "source": [
    "SolveSudokuFromCSV('hard1.csv')"
   ]
  },
  {
   "cell_type": "code",
   "execution_count": null,
   "id": "bb4d827b",
   "metadata": {
    "scrolled": false
   },
   "outputs": [],
   "source": [
    "SolveSudokuFromCSV('super_easy.csv')"
   ]
  },
  {
   "cell_type": "code",
   "execution_count": null,
   "id": "d691ea5b",
   "metadata": {},
   "outputs": [],
   "source": [
    "SolveSudokuFromCSV('example1.csv')"
   ]
  }
 ],
 "metadata": {
  "kernelspec": {
   "display_name": "Python 3 (ipykernel)",
   "language": "python",
   "name": "python3"
  },
  "language_info": {
   "codemirror_mode": {
    "name": "ipython",
    "version": 3
   },
   "file_extension": ".py",
   "mimetype": "text/x-python",
   "name": "python",
   "nbconvert_exporter": "python",
   "pygments_lexer": "ipython3",
   "version": "3.9.7"
  }
 },
 "nbformat": 4,
 "nbformat_minor": 5
}
