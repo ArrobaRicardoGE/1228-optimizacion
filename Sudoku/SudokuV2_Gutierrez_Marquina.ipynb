{
 "cells": [
  {
   "cell_type": "markdown",
   "id": "c533c454",
   "metadata": {},
   "source": [
    "# Genetic algorithm: Sudoku\n",
    "**Ricardo Antonio Gutiérrez Esparza** \\\n",
    "**Juan Marquina Cancino**"
   ]
  },
  {
   "cell_type": "code",
   "execution_count": 1,
   "id": "33d2acd7",
   "metadata": {},
   "outputs": [],
   "source": [
    "import pandas as pd\n",
    "import numpy as np\n",
    "from numpy.random import default_rng\n",
    "import matplotlib.pyplot as plt\n",
    "import csv\n",
    "rng = default_rng(6502729091)"
   ]
  },
  {
   "cell_type": "markdown",
   "id": "b8285adc",
   "metadata": {},
   "source": [
    "## Genotype definition\n",
    "Array of 81 elements. Every 9 elements represent an inner square, starting from the top left to the bottom right."
   ]
  },
  {
   "cell_type": "code",
   "execution_count": 2,
   "id": "d15243cb",
   "metadata": {},
   "outputs": [],
   "source": [
    "def SquareToLinear(arr):\n",
    "    '''Auxiliar function. Takes a 9x9 array representing a sudoku,\n",
    "       returns an array with the same sudoku encoded in the \n",
    "       described way.\n",
    "    '''\n",
    "    result = np.zeros(81, dtype=int)\n",
    "    for i in range(3):\n",
    "        for j in range(3):\n",
    "            idx = i * 3 + j\n",
    "            result[idx * 9 : (idx + 1) * 9] = np.reshape(arr[i * 3:(i + 1) * 3, j * 3 : (j + 1) * 3], (9))\n",
    "    return result"
   ]
  },
  {
   "cell_type": "code",
   "execution_count": 3,
   "id": "49f10d07",
   "metadata": {},
   "outputs": [],
   "source": [
    "def LinearToSquare(arr):\n",
    "    '''Auxiliar function. Takes a sudoku encoded in the described\n",
    "       way and returns a 9x9 array representing the same sudoku.\n",
    "    '''\n",
    "    result = np.zeros((9,9), dtype=int)\n",
    "    for i in range(3):\n",
    "        for j in range(3):\n",
    "            idx = i * 3 + j\n",
    "            result[i * 3:(i + 1) * 3, j * 3:(j + 1) * 3] = np.reshape(arr[idx * 9 : (idx + 1) * 9], (3,3))\n",
    "    return result"
   ]
  },
  {
   "cell_type": "code",
   "execution_count": 4,
   "id": "23b9a065",
   "metadata": {},
   "outputs": [
    {
     "name": "stdout",
     "output_type": "stream",
     "text": [
      "The genotype [ 0  1  2  3  4  5  6  7  8  9 10 11 12 13 14 15 16 17 18 19 20 21 22 23\n",
      " 24 25 26 27 28 29 30 31 32 33 34 35 36 37 38 39 40 41 42 43 44 45 46 47\n",
      " 48 49 50 51 52 53 54 55 56 57 58 59 60 61 62 63 64 65 66 67 68 69 70 71\n",
      " 72 73 74 75 76 77 78 79 80] represents the following sudoku: \n",
      "[[ 0  1  2  9 10 11 18 19 20]\n",
      " [ 3  4  5 12 13 14 21 22 23]\n",
      " [ 6  7  8 15 16 17 24 25 26]\n",
      " [27 28 29 36 37 38 45 46 47]\n",
      " [30 31 32 39 40 41 48 49 50]\n",
      " [33 34 35 42 43 44 51 52 53]\n",
      " [54 55 56 63 64 65 72 73 74]\n",
      " [57 58 59 66 67 68 75 76 77]\n",
      " [60 61 62 69 70 71 78 79 80]]\n"
     ]
    }
   ],
   "source": [
    "# Genotype example\n",
    "genotype = np.array([i for i in range(81)])\n",
    "print(f'The genotype {genotype} represents the following sudoku: ')\n",
    "print(LinearToSquare(genotype))"
   ]
  },
  {
   "cell_type": "code",
   "execution_count": 5,
   "id": "6889e730",
   "metadata": {},
   "outputs": [],
   "source": [
    "def ObjectiveFunction(genotype):\n",
    "    '''Counts the amount of repeated elements per row and column.\n",
    "       It is not necessary to check inner squares because the\n",
    "       random generation function ensures that there are not \n",
    "       repeated elements in inner squares.\n",
    "    '''\n",
    "    ans = 0\n",
    "    # Rows\n",
    "    raux = np.reshape(genotype, (9,9))\n",
    "    for i in range(3):\n",
    "        for j in range(3):\n",
    "            ans += 9 - len(np.unique(raux[i * 3 : (i + 1) * 3, j * 3 : (j + 1) * 3]))\n",
    "    \n",
    "    # Columns\n",
    "    caux = np.reshape(genotype, (9,3,3))\n",
    "    for i in range(3):\n",
    "        for j in range(3):\n",
    "            ans += 9 - len(np.unique(caux[i::3][:,:,j]))\n",
    "    \n",
    "    return ans"
   ]
  },
  {
   "cell_type": "code",
   "execution_count": 6,
   "id": "675ef39b",
   "metadata": {},
   "outputs": [],
   "source": [
    "def FillObvious(genotype):\n",
    "    '''Goes through the given solution and fills the values\n",
    "       where there is no other choice.\n",
    "    '''\n",
    "    board = LinearToSquare(genotype)\n",
    "    possible = np.array([[{1,2,3,4,5,6,7,8,9} for i in range(9)] for i in range(9)])\n",
    "    \n",
    "    def DiscardRow(r, x):\n",
    "        for s in possible[r]:\n",
    "            s.discard(x)\n",
    "    def DiscardColumn(c, x):\n",
    "        for s in possible[:,c]:\n",
    "            s.discard(x)\n",
    "    def DiscardInnerSquare(n, m, x):\n",
    "        for r in possible[n * 3:(n + 1) * 3, m * 3:(m + 1) * 3]:\n",
    "            for s in r:\n",
    "                s.discard(x)\n",
    "    \n",
    "    for i in range(9):\n",
    "        for j in range(9):\n",
    "            if board[i,j] != 0:\n",
    "                DiscardRow(i, board[i,j])\n",
    "                DiscardColumn(j, board[i,j])\n",
    "                DiscardInnerSquare(i // 3, j // 3, board[i,j])\n",
    "    \n",
    "    changed = 0\n",
    "    for i in range(9):\n",
    "        for j in range(9):\n",
    "            if len(possible[i,j]) == 1 and board[i,j] == 0:\n",
    "                board[i,j] = list(possible[i,j])[0]\n",
    "                changed += 1\n",
    "    \n",
    "    print(f'Filled {changed} values')\n",
    "    return SquareToLinear(board)"
   ]
  },
  {
   "cell_type": "code",
   "execution_count": 7,
   "id": "fc839a96",
   "metadata": {},
   "outputs": [],
   "source": [
    "def SolutionPermutation(initialState):\n",
    "    '''Fills the sudoku with random values, respecting the \n",
    "       given constraints (fixed values).\n",
    "    '''\n",
    "    solution = np.zeros(81, dtype=int)\n",
    "    for i in range(9):\n",
    "        perm = rng.permutation(9) + 1\n",
    "        for j, x in enumerate(initialState[i * 9 : (i + 1) * 9]):\n",
    "            if x != 0:\n",
    "                perm[np.where(perm == x)[0]] = perm[j]\n",
    "                perm[j] = x\n",
    "        solution[i * 9 : (i + 1) * 9] = perm.copy()\n",
    "        \n",
    "    return solution"
   ]
  },
  {
   "cell_type": "code",
   "execution_count": 8,
   "id": "35f0b1ca",
   "metadata": {},
   "outputs": [],
   "source": [
    "def ReadFromCSV(path):\n",
    "    ans = np.zeros((9,9), dtype=int)\n",
    "    with open(path) as f:\n",
    "        csvf = csv.reader(f, delimiter=',')\n",
    "        for i, r in enumerate(csvf):\n",
    "            ans[i] = r\n",
    "    \n",
    "    return SquareToLinear(ans)"
   ]
  },
  {
   "cell_type": "markdown",
   "id": "b9365373",
   "metadata": {},
   "source": [
    "## Genetic Algorithm"
   ]
  },
  {
   "cell_type": "code",
   "execution_count": 9,
   "id": "0b73ea01",
   "metadata": {},
   "outputs": [],
   "source": [
    "def ParentSelectionTournament(fitness, k=2):\n",
    "    '''\n",
    "        Input:  fitness -> Array of pop_size elements\n",
    "                k -> size of tournament\n",
    "        Output: Index of selected parent\n",
    "    '''\n",
    "    selection = rng.permutation(len(fitness))\n",
    "    not_selection = selection[k:]\n",
    "    raffle = fitness.copy()\n",
    "    raffle[not_selection] = np.max(raffle) + 1\n",
    "    return np.argmin(raffle)"
   ]
  },
  {
   "cell_type": "code",
   "execution_count": 10,
   "id": "19e7e197",
   "metadata": {},
   "outputs": [],
   "source": [
    "def CrossoverSimplePermutation(parent1, parent2):\n",
    "    '''Crossover function. Takes a random crossover point\n",
    "       to combine the inner squares of the parents\n",
    "    '''\n",
    "    cut = rng.integers(low=1, high=8)\n",
    "    return np.append(parent1[:cut * 9], parent2[cut * 9:])"
   ]
  },
  {
   "cell_type": "code",
   "execution_count": 11,
   "id": "da47cce9",
   "metadata": {},
   "outputs": [],
   "source": [
    "def MutationSwap(genotype, initialState):\n",
    "    '''Randomly selects an inner square and swaps two \n",
    "       non-fixed values\n",
    "    '''\n",
    "    mutated = genotype.copy()\n",
    "    helper = np.reshape(initialState, (9,9))\n",
    "    mutated = np.reshape(mutated, (9,9))\n",
    "    \n",
    "    r_idx, cnt_not_fixed = None, None\n",
    "    while True:\n",
    "        r_idx = rng.integers(low=0, high=9)\n",
    "        cnt_not_fixed = np.count_nonzero(helper[r_idx] == 0)\n",
    "        if cnt_not_fixed >= 2:\n",
    "            break\n",
    "    \n",
    "    g = rng.integers(low=0, high=cnt_not_fixed, size=2)\n",
    "    \n",
    "    c_idx1 = 0\n",
    "    for i,x in enumerate(helper[r_idx]): \n",
    "        if g[0] == 0 and x == 0:\n",
    "            c_idx1 = i\n",
    "            break\n",
    "        if x == 0:\n",
    "            g[0] -= 1\n",
    "    \n",
    "    c_idx2 = 0\n",
    "    for i,x in enumerate(helper[r_idx]): \n",
    "        if g[1] == 0 and x == 0:\n",
    "            c_idx2 = i\n",
    "            break\n",
    "        if x == 0:\n",
    "            g[1] -= 1\n",
    "    \n",
    "    mutated[r_idx,c_idx1], mutated[r_idx,c_idx2] = mutated[r_idx,c_idx2], mutated[r_idx,c_idx1]\n",
    "    return np.reshape(mutated, (81))"
   ]
  },
  {
   "cell_type": "code",
   "execution_count": 12,
   "id": "74484798",
   "metadata": {},
   "outputs": [],
   "source": [
    "def SudokuCrossover(population, fitness, Pr):\n",
    "    new_population = np.zeros(population.shape, dtype=int)\n",
    "    for i in range(len(population)): \n",
    "        if(rng.random() < Pr):\n",
    "            parent1 = population[ParentSelectionTournament(fitness)]\n",
    "            parent2 = population[ParentSelectionTournament(fitness)]\n",
    "            new_population[i] = CrossoverSimplePermutation(parent1, parent2)\n",
    "        else:\n",
    "            new_population[i] = population[ParentSelectionTournament(fitness)]\n",
    "    \n",
    "    return new_population"
   ]
  },
  {
   "cell_type": "code",
   "execution_count": 13,
   "id": "2ef84089",
   "metadata": {},
   "outputs": [],
   "source": [
    "def SudokuMutation(population, initialMutation, Pm):\n",
    "    new_population = np.zeros(population.shape, dtype=int)\n",
    "    for i, genotype in enumerate(population):\n",
    "        new_population[i] = MutationSwap(genotype, initialMutation) if rng.random() < Pm else genotype\n",
    "    return new_population"
   ]
  },
  {
   "cell_type": "code",
   "execution_count": 14,
   "id": "febc1f21",
   "metadata": {},
   "outputs": [],
   "source": [
    "def SudokuGeneticAlgorithm(initialState, N=30, G=100, Pr=0.8, Pm=0.3):\n",
    "    sPr, sPm = Pr, Pm\n",
    "    population = np.array([SolutionPermutation(initialState) for i in range(N)])\n",
    "    fitness = np.array([ObjectiveFunction(genotype) for genotype in population])\n",
    "    elite = population[np.argmin(fitness)].copy()\n",
    "    elite_fx = np.min(fitness)\n",
    "    \n",
    "    current_g = 0\n",
    "    elite_last_updated = 0\n",
    "    while current_g < G and elite_fx != 0:\n",
    "        if current_g % 100 == 0:\n",
    "            print(f'Generation #{current_g}: fitness = {elite_fx}')\n",
    "            print(f'min = {np.min(fitness)}, max = {np.max(fitness)}, mean = {np.mean(fitness)}, std = {np.std(fitness)}')\n",
    "        \n",
    "        if current_g - elite_last_updated >= 1500:\n",
    "            print('-----Stale after 1500 generations, bumping Pm and reducing Pr-----')\n",
    "            Pm = min(Pm * 1.15, 0.75)\n",
    "            Pr = max(Pr * 0.9, 0.25)\n",
    "            print(f'Pm = {Pm}, Pr = {Pr}')\n",
    "            elite_last_updated = current_g\n",
    "            \n",
    "        population = SudokuCrossover(population, fitness, Pr)\n",
    "        population = SudokuMutation(population, initialState, Pm)\n",
    "        fitness = np.array([ObjectiveFunction(genotype) for genotype in population])\n",
    "        if(np.min(fitness) > elite_fx):\n",
    "            max_idx = ParentSelectionTournament(fitness * -1)\n",
    "            population[max_idx] = elite\n",
    "            fitness[max_idx] = elite_fx\n",
    "        else:\n",
    "            if np.min(fitness) != elite_fx:\n",
    "                elite_last_updated = current_g\n",
    "                Pr, Pm = sPr, sPm\n",
    "            elite = population[np.argmin(fitness)].copy()\n",
    "            elite_fx = np.min(fitness)\n",
    "            \n",
    "        current_g += 1\n",
    "    \n",
    "    return elite, elite_fx, current_g"
   ]
  },
  {
   "cell_type": "markdown",
   "id": "9316ee39",
   "metadata": {},
   "source": [
    "## Solver"
   ]
  },
  {
   "cell_type": "markdown",
   "id": "1224becb",
   "metadata": {},
   "source": [
    "The parameters for the Genetic Algorithm were chosen after experimentation. We noticed that this problem has a lot of local optimas, so we had to be careful not to converge on one of these right away. In terms of Genetic Algorithms, we have to ensure diversity of the population. We bumped the population size to 100 to address it.\n",
    "\n",
    "We also implemented a method to try to introduce noise when the elite goes stale (i.e. value doesn't change after a number of generations). We increase the mutation probability and reduce the crossover one, and keep doing it until it hits the cap or the fitness changes. This is an attempt to introduce even more diversity."
   ]
  },
  {
   "cell_type": "code",
   "execution_count": 15,
   "id": "f1ad4b74",
   "metadata": {},
   "outputs": [],
   "source": [
    "def SolveSudokuFromCSV(path):\n",
    "    initialState = ReadFromCSV(path)\n",
    "    plotInitialState = LinearToSquare(initialState)\n",
    "    initialState = FillObvious(initialState)\n",
    "    elite, elite_fx, total_g = SudokuGeneticAlgorithm(initialState, N=100, G=100000, Pm=0.35, Pr = 0.75)\n",
    "    elite = LinearToSquare(elite)\n",
    "    nrows, ncols = len(elite), len(elite)\n",
    "    image = np.zeros(nrows*ncols)\n",
    "    \n",
    "    print(f'### Total # of generations = {total_g}, fitness = {elite_fx} ###')\n",
    "    \n",
    "    # Plot solution\n",
    "\n",
    "    def highlight_cell(x,y, ax=None, **kwargs):\n",
    "        rect = plt.Rectangle((x-.5, y-.5), 1,1, fill=False, **kwargs)\n",
    "        ax = ax or plt.gca()\n",
    "        ax.add_patch(rect)\n",
    "        return rect\n",
    "\n",
    "    def highlight_separator(x, y, **kwargs):\n",
    "        wx, wy = 0, 10\n",
    "        if x == 0:\n",
    "            wx, wy = wy, wx\n",
    "        rect = plt.Rectangle((x-.5, y-0.5), wx, wy, fill=False, **kwargs)\n",
    "        ax = plt.gca()\n",
    "        ax.add_patch(rect)\n",
    "        return rect\n",
    "\n",
    "    image = image.reshape((nrows, ncols))\n",
    "\n",
    "    plt.matshow(image, cmap='afmhot')\n",
    "    for i in range(nrows):\n",
    "        for j in range(ncols):\n",
    "            highlight_cell(i, j, color='white', linewidth=2)\n",
    "    highlight_separator(3, 0, color='white', linewidth=6)\n",
    "    highlight_separator(6, 0, color='white', linewidth=6)\n",
    "    highlight_separator(0, 3, color='white', linewidth=6)\n",
    "    highlight_separator(0, 6, color='white', linewidth=6)\n",
    "\n",
    "    for i, r in enumerate(elite):\n",
    "        for j, x in enumerate(r):\n",
    "            color = 'pink' if plotInitialState[i,j] == 0 else 'white'\n",
    "            plt.text(j, i, x, color=color, horizontalalignment='center', verticalalignment='center', fontsize=14, fontweight='bold')\n",
    "\n",
    "    plt.show()"
   ]
  },
  {
   "cell_type": "code",
   "execution_count": 16,
   "id": "7030272a",
   "metadata": {
    "scrolled": true
   },
   "outputs": [
    {
     "name": "stdout",
     "output_type": "stream",
     "text": [
      "Filled 11 values\n",
      "Generation #0: fitness = 18\n",
      "min = 18, max = 36, mean = 27.55, std = 3.6969582091227378\n",
      "### Total # of generations = 33, fitness = 0 ###\n"
     ]
    },
    {
     "data": {
      "image/png": "[encoded data removed]",
      "text/plain": [
       "<Figure size 288x288 with 1 Axes>"
      ]
     },
     "metadata": {
      "needs_background": "light"
     },
     "output_type": "display_data"
    }
   ],
   "source": [
    "SolveSudokuFromCSV('sudoku_ex1.csv')"
   ]
  },
  {
   "cell_type": "code",
   "execution_count": 17,
   "id": "8146e9c2",
   "metadata": {
    "scrolled": true
   },
   "outputs": [
    {
     "name": "stdout",
     "output_type": "stream",
     "text": [
      "Filled 4 values\n",
      "Generation #0: fitness = 30\n",
      "min = 30, max = 47, mean = 39.91, std = 3.7177815965976264\n",
      "### Total # of generations = 70, fitness = 0 ###\n"
     ]
    },
    {
     "data": {
      "image/png": "[encoded data removed]",
      "text/plain": [
       "<Figure size 288x288 with 1 Axes>"
      ]
     },
     "metadata": {
      "needs_background": "light"
     },
     "output_type": "display_data"
    }
   ],
   "source": [
    "SolveSudokuFromCSV('sudoku_ex2.csv')"
   ]
  },
  {
   "cell_type": "code",
   "execution_count": 18,
   "id": "10237a4e",
   "metadata": {},
   "outputs": [
    {
     "name": "stdout",
     "output_type": "stream",
     "text": [
      "Filled 4 values\n",
      "Generation #0: fitness = 31\n",
      "min = 31, max = 51, mean = 41.51, std = 4.1388283366189516\n",
      "Generation #100: fitness = 4\n",
      "min = 4, max = 10, mean = 4.83, std = 1.5235156710713544\n",
      "Generation #200: fitness = 4\n",
      "min = 4, max = 8, mean = 4.72, std = 1.1838918869558992\n",
      "Generation #300: fitness = 4\n",
      "min = 4, max = 10, mean = 5.17, std = 1.625146147274146\n",
      "Generation #400: fitness = 2\n",
      "min = 2, max = 6, mean = 2.78, std = 1.3006152390311285\n",
      "Generation #500: fitness = 2\n",
      "min = 2, max = 10, mean = 3.06, std = 1.6602409463689298\n",
      "### Total # of generations = 506, fitness = 0 ###\n"
     ]
    },
    {
     "data": {
      "image/png": "[encoded data removed]",
      "text/plain": [
       "<Figure size 288x288 with 1 Axes>"
      ]
     },
     "metadata": {
      "needs_background": "light"
     },
     "output_type": "display_data"
    }
   ],
   "source": [
    "SolveSudokuFromCSV('sudoku_ex3.csv')"
   ]
  },
  {
   "cell_type": "code",
   "execution_count": 19,
   "id": "7878e968",
   "metadata": {},
   "outputs": [
    {
     "name": "stdout",
     "output_type": "stream",
     "text": [
      "Filled 6 values\n",
      "Generation #0: fitness = 17\n",
      "min = 17, max = 35, mean = 24.99, std = 4.14848164995339\n",
      "### Total # of generations = 23, fitness = 0 ###\n"
     ]
    },
    {
     "data": {
      "image/png": "[encoded data removed]",
      "text/plain": [
       "<Figure size 288x288 with 1 Axes>"
      ]
     },
     "metadata": {
      "needs_background": "light"
     },
     "output_type": "display_data"
    }
   ],
   "source": [
    "SolveSudokuFromCSV('sudoku_ex4.csv')"
   ]
  },
  {
   "cell_type": "code",
   "execution_count": 23,
   "id": "5289efbb",
   "metadata": {},
   "outputs": [
    {
     "name": "stdout",
     "output_type": "stream",
     "text": [
      "Filled 2 values\n",
      "Generation #0: fitness = 34\n",
      "min = 34, max = 56, mean = 44.64, std = 4.387527777689846\n",
      "Generation #100: fitness = 6\n",
      "min = 6, max = 13, mean = 7.57, std = 1.401820245252579\n",
      "Generation #200: fitness = 4\n",
      "min = 4, max = 12, mean = 5.61, std = 1.969238431475478\n",
      "Generation #300: fitness = 4\n",
      "min = 4, max = 12, mean = 5.38, std = 1.683923988783342\n",
      "Generation #400: fitness = 3\n",
      "min = 3, max = 10, mean = 4.97, std = 1.5585570249432645\n",
      "Generation #500: fitness = 2\n",
      "min = 2, max = 9, mean = 3.46, std = 1.7630655121123546\n",
      "Generation #600: fitness = 2\n",
      "min = 2, max = 10, mean = 3.11, std = 1.7994165721144173\n",
      "Generation #700: fitness = 2\n",
      "min = 2, max = 8, mean = 3.15, std = 1.6933694221876097\n",
      "Generation #800: fitness = 2\n",
      "min = 2, max = 9, mean = 3.33, std = 1.655626769534728\n",
      "Generation #900: fitness = 2\n",
      "min = 2, max = 10, mean = 3.04, std = 1.6728418933061184\n",
      "Generation #1000: fitness = 2\n",
      "min = 2, max = 10, mean = 3.11, std = 1.7372104075212078\n",
      "Generation #1100: fitness = 2\n",
      "min = 2, max = 8, mean = 3.24, std = 1.691862878604528\n",
      "Generation #1200: fitness = 2\n",
      "min = 2, max = 9, mean = 2.98, std = 1.630828010551695\n",
      "Generation #1300: fitness = 2\n",
      "min = 2, max = 10, mean = 3.47, std = 1.8732591918899\n",
      "Generation #1400: fitness = 2\n",
      "min = 2, max = 10, mean = 3.18, std = 1.790977386791916\n",
      "Generation #1500: fitness = 2\n",
      "min = 2, max = 6, mean = 3.01, std = 1.5779416972752829\n",
      "Generation #1600: fitness = 2\n",
      "min = 2, max = 10, mean = 3.38, std = 1.7651062290978412\n",
      "Generation #1700: fitness = 2\n",
      "min = 2, max = 8, mean = 3.06, std = 1.5926079241294764\n",
      "Generation #1800: fitness = 2\n",
      "min = 2, max = 8, mean = 3.38, std = 1.7191858538273286\n",
      "Generation #1900: fitness = 2\n",
      "min = 2, max = 6, mean = 2.98, std = 1.428145650835376\n",
      "-----Stale after 1500 generations, bumping Pm and reducing Pr-----\n",
      "Pm = 0.40249999999999997, Pr = 0.675\n",
      "Generation #2000: fitness = 2\n",
      "min = 2, max = 9, mean = 3.48, std = 1.873392644375439\n",
      "Generation #2100: fitness = 2\n",
      "min = 2, max = 8, mean = 3.37, std = 1.7358283325260018\n",
      "Generation #2200: fitness = 2\n",
      "min = 2, max = 10, mean = 3.82, std = 1.8888091486436631\n",
      "Generation #2300: fitness = 2\n",
      "min = 2, max = 8, mean = 3.06, std = 1.5021318184500323\n",
      "Generation #2400: fitness = 2\n",
      "min = 2, max = 8, mean = 3.35, std = 1.6933694221876097\n",
      "Generation #2500: fitness = 2\n",
      "min = 2, max = 8, mean = 3.37, std = 1.6950221237494216\n",
      "Generation #2600: fitness = 2\n",
      "min = 2, max = 10, mean = 3.48, std = 1.8137254478007412\n",
      "Generation #2700: fitness = 2\n",
      "min = 2, max = 9, mean = 3.27, std = 1.7020869543005142\n",
      "Generation #2800: fitness = 2\n",
      "min = 2, max = 9, mean = 3.08, std = 1.56\n",
      "Generation #2900: fitness = 2\n",
      "min = 2, max = 10, mean = 3.76, std = 2.025438224187546\n",
      "Generation #3000: fitness = 2\n",
      "min = 2, max = 10, mean = 3.62, std = 2.1249941176389173\n",
      "Generation #3100: fitness = 2\n",
      "min = 2, max = 10, mean = 3.22, std = 1.6587947431795171\n",
      "Generation #3200: fitness = 2\n",
      "min = 2, max = 10, mean = 3.46, std = 1.8023318229449314\n",
      "Generation #3300: fitness = 2\n",
      "min = 2, max = 8, mean = 3.37, std = 1.798082311797766\n",
      "Generation #3400: fitness = 2\n",
      "min = 2, max = 10, mean = 4.0, std = 2.149418526020468\n",
      "-----Stale after 1500 generations, bumping Pm and reducing Pr-----\n",
      "Pm = 0.4628749999999999, Pr = 0.6075\n",
      "Generation #3500: fitness = 2\n",
      "min = 2, max = 9, mean = 4.01, std = 2.0712073773526396\n",
      "Generation #3600: fitness = 2\n",
      "min = 2, max = 10, mean = 3.91, std = 2.2320170250246747\n",
      "Generation #3700: fitness = 2\n",
      "min = 2, max = 14, mean = 3.92, std = 2.248021352211762\n",
      "Generation #3800: fitness = 2\n",
      "min = 2, max = 10, mean = 4.38, std = 2.023758878918138\n",
      "Generation #3900: fitness = 2\n",
      "min = 2, max = 9, mean = 3.45, std = 1.8186533479473213\n",
      "Generation #4000: fitness = 2\n",
      "min = 2, max = 8, mean = 3.57, std = 1.8179933993279513\n",
      "Generation #4100: fitness = 2\n",
      "min = 2, max = 12, mean = 4.41, std = 2.2320170250246747\n",
      "Generation #4200: fitness = 2\n",
      "min = 2, max = 11, mean = 3.9, std = 2.1095023109728985\n",
      "Generation #4300: fitness = 2\n",
      "min = 2, max = 11, mean = 3.77, std = 1.9588517044431926\n",
      "Generation #4400: fitness = 2\n",
      "min = 2, max = 12, mean = 4.09, std = 2.209502206380433\n",
      "Generation #4500: fitness = 2\n",
      "min = 2, max = 12, mean = 3.55, std = 2.031624965391004\n",
      "Generation #4600: fitness = 2\n",
      "min = 2, max = 10, mean = 4.1, std = 2.0024984394500787\n",
      "Generation #4700: fitness = 2\n",
      "min = 2, max = 11, mean = 4.08, std = 2.2920732972573106\n",
      "Generation #4800: fitness = 2\n",
      "min = 2, max = 10, mean = 4.02, std = 2.1816507511515217\n",
      "Generation #4900: fitness = 2\n",
      "min = 2, max = 10, mean = 4.16, std = 2.129413064672986\n",
      "-----Stale after 1500 generations, bumping Pm and reducing Pr-----\n",
      "Pm = 0.5323062499999999, Pr = 0.5467500000000001\n",
      "Generation #5000: fitness = 2\n",
      "min = 2, max = 12, mean = 4.92, std = 2.44409492450682\n",
      "Generation #5100: fitness = 2\n",
      "min = 2, max = 13, mean = 4.97, std = 2.570816990763831\n",
      "Generation #5200: fitness = 2\n",
      "min = 2, max = 10, mean = 4.69, std = 2.038111871316194\n",
      "Generation #5300: fitness = 2\n",
      "min = 2, max = 14, mean = 4.33, std = 2.1865726605809375\n",
      "Generation #5400: fitness = 2\n",
      "min = 2, max = 12, mean = 5.83, std = 2.494213302827166\n",
      "Generation #5500: fitness = 2\n",
      "min = 2, max = 11, mean = 5.01, std = 2.325919173144243\n",
      "Generation #5600: fitness = 2\n",
      "min = 2, max = 14, mean = 4.77, std = 2.4118664971345325\n",
      "Generation #5700: fitness = 2\n",
      "min = 2, max = 10, mean = 4.47, std = 2.2020672106000756\n",
      "Generation #5800: fitness = 2\n",
      "min = 2, max = 13, mean = 3.99, std = 2.3259191731442437\n",
      "Generation #5900: fitness = 2\n",
      "min = 2, max = 10, mean = 4.87, std = 2.184742547761635\n",
      "Generation #6000: fitness = 2\n",
      "min = 2, max = 10, mean = 4.28, std = 2.0643643089338664\n",
      "Generation #6100: fitness = 2\n",
      "min = 2, max = 10, mean = 4.0, std = 1.9235384061671346\n",
      "Generation #6200: fitness = 2\n",
      "min = 2, max = 11, mean = 4.75, std = 2.146508793366568\n",
      "Generation #6300: fitness = 2\n",
      "min = 2, max = 12, mean = 4.61, std = 2.3744262464856645\n",
      "Generation #6400: fitness = 2\n",
      "min = 2, max = 10, mean = 5.11, std = 2.248977545463716\n",
      "-----Stale after 1500 generations, bumping Pm and reducing Pr-----\n",
      "Pm = 0.6121521874999998, Pr = 0.4920750000000001\n",
      "Generation #6500: fitness = 2\n",
      "min = 2, max = 11, mean = 5.47, std = 2.2111309323511352\n",
      "Generation #6600: fitness = 2\n",
      "min = 2, max = 12, mean = 5.09, std = 2.2982384558613584\n",
      "Generation #6700: fitness = 2\n",
      "min = 2, max = 12, mean = 5.5, std = 2.3979157616563596\n",
      "Generation #6800: fitness = 2\n",
      "min = 2, max = 12, mean = 5.36, std = 2.4638181751095187\n",
      "Generation #6900: fitness = 2\n",
      "min = 2, max = 12, mean = 5.65, std = 2.5509802037648197\n",
      "Generation #7000: fitness = 2\n",
      "min = 2, max = 10, mean = 4.39, std = 2.144271438041369\n",
      "Generation #7100: fitness = 2\n",
      "min = 2, max = 10, mean = 4.91, std = 2.2719815140093016\n",
      "Generation #7200: fitness = 2\n",
      "min = 2, max = 14, mean = 6.26, std = 2.7115309328864385\n",
      "Generation #7300: fitness = 2\n",
      "min = 2, max = 12, mean = 5.08, std = 2.5364542179980303\n",
      "Generation #7400: fitness = 2\n",
      "min = 2, max = 11, mean = 5.18, std = 2.3124878378058553\n",
      "Generation #7500: fitness = 2\n",
      "min = 2, max = 12, mean = 5.14, std = 2.3281752511355327\n",
      "Generation #7600: fitness = 2\n",
      "min = 2, max = 13, mean = 5.83, std = 2.4700404854981635\n",
      "Generation #7700: fitness = 2\n",
      "min = 2, max = 13, mean = 6.88, std = 2.4465485893396846\n",
      "Generation #7800: fitness = 2\n",
      "min = 2, max = 13, mean = 5.63, std = 2.559902341887284\n",
      "Generation #7900: fitness = 2\n",
      "min = 2, max = 12, mean = 5.58, std = 2.276752072580587\n",
      "-----Stale after 1500 generations, bumping Pm and reducing Pr-----\n",
      "Pm = 0.7039750156249996, Pr = 0.4428675000000001\n",
      "Generation #8000: fitness = 2\n",
      "min = 2, max = 13, mean = 6.09, std = 2.458027664612423\n",
      "Generation #8100: fitness = 2\n",
      "min = 2, max = 14, mean = 7.13, std = 2.770036100847785\n",
      "Generation #8200: fitness = 2\n",
      "min = 2, max = 13, mean = 7.33, std = 2.7204962782551276\n",
      "Generation #8300: fitness = 2\n",
      "min = 2, max = 14, mean = 6.91, std = 2.6347485648539597\n",
      "Generation #8400: fitness = 2\n",
      "min = 2, max = 14, mean = 7.78, std = 2.500319979522621\n",
      "Generation #8500: fitness = 2\n",
      "min = 2, max = 15, mean = 7.43, std = 2.800910566226633\n",
      "Generation #8600: fitness = 2\n",
      "min = 2, max = 15, mean = 8.21, std = 3.0109633010051784\n",
      "Generation #8700: fitness = 2\n",
      "min = 2, max = 12, mean = 6.6, std = 2.4166091947189146\n",
      "Generation #8800: fitness = 2\n",
      "min = 2, max = 12, mean = 6.75, std = 2.7870235018743563\n"
     ]
    },
    {
     "name": "stdout",
     "output_type": "stream",
     "text": [
      "Generation #8900: fitness = 2\n",
      "min = 2, max = 16, mean = 7.12, std = 2.783091805887833\n",
      "Generation #9000: fitness = 2\n",
      "min = 2, max = 14, mean = 6.7, std = 2.5278449319529077\n",
      "Generation #9100: fitness = 2\n",
      "min = 2, max = 14, mean = 7.01, std = 2.439241685442424\n",
      "Generation #9200: fitness = 2\n",
      "min = 2, max = 14, mean = 7.41, std = 2.7896057069055478\n",
      "Generation #9300: fitness = 2\n",
      "min = 2, max = 16, mean = 7.33, std = 3.25593304599465\n",
      "Generation #9400: fitness = 2\n",
      "min = 2, max = 13, mean = 6.54, std = 2.732837353374694\n",
      "-----Stale after 1500 generations, bumping Pm and reducing Pr-----\n",
      "Pm = 0.75, Pr = 0.3985807500000001\n",
      "Generation #9500: fitness = 2\n",
      "min = 2, max = 14, mean = 7.2, std = 2.7820855486487113\n",
      "Generation #9600: fitness = 2\n",
      "min = 2, max = 19, mean = 8.54, std = 3.041118215393805\n",
      "Generation #9700: fitness = 2\n",
      "min = 2, max = 15, mean = 8.16, std = 2.827437001950707\n",
      "Generation #9800: fitness = 2\n",
      "min = 2, max = 16, mean = 7.52, std = 3.1542986542177642\n",
      "Generation #9900: fitness = 2\n",
      "min = 2, max = 15, mean = 7.59, std = 2.7824269981438863\n",
      "Generation #10000: fitness = 2\n",
      "min = 2, max = 14, mean = 8.0, std = 2.745906043549196\n",
      "Generation #10100: fitness = 2\n",
      "min = 2, max = 14, mean = 8.26, std = 2.6100574706316335\n",
      "Generation #10200: fitness = 2\n",
      "min = 2, max = 15, mean = 7.22, std = 3.0019327107715124\n",
      "Generation #10300: fitness = 2\n",
      "min = 2, max = 16, mean = 7.84, std = 2.748526878165829\n",
      "Generation #10400: fitness = 2\n",
      "min = 2, max = 13, mean = 7.04, std = 2.5531157435572718\n",
      "Generation #10500: fitness = 2\n",
      "min = 2, max = 13, mean = 5.87, std = 2.55207758502754\n",
      "Generation #10600: fitness = 2\n",
      "min = 2, max = 12, mean = 6.68, std = 2.541180827882975\n",
      "Generation #10700: fitness = 2\n",
      "min = 2, max = 17, mean = 7.42, std = 2.804211119013688\n",
      "Generation #10800: fitness = 2\n",
      "min = 2, max = 13, mean = 6.83, std = 2.664788922222546\n",
      "Generation #10900: fitness = 2\n",
      "min = 2, max = 14, mean = 7.04, std = 3.0130383336426374\n",
      "-----Stale after 1500 generations, bumping Pm and reducing Pr-----\n",
      "Pm = 0.75, Pr = 0.3587226750000001\n",
      "Generation #11000: fitness = 2\n",
      "min = 2, max = 15, mean = 8.3, std = 2.736786436680802\n",
      "Generation #11100: fitness = 2\n",
      "min = 2, max = 14, mean = 8.7, std = 2.6248809496813377\n",
      "Generation #11200: fitness = 2\n",
      "min = 2, max = 15, mean = 8.01, std = 2.6438419014759567\n",
      "Generation #11300: fitness = 2\n",
      "min = 2, max = 12, mean = 6.29, std = 2.4466098994322736\n",
      "Generation #11400: fitness = 2\n",
      "min = 2, max = 16, mean = 7.71, std = 2.6088119901595057\n",
      "Generation #11500: fitness = 2\n",
      "min = 2, max = 18, mean = 8.06, std = 2.7416053691222597\n",
      "Generation #11600: fitness = 2\n",
      "min = 2, max = 14, mean = 6.88, std = 2.48708664907357\n",
      "Generation #11700: fitness = 2\n",
      "min = 2, max = 16, mean = 8.45, std = 2.9576172842340505\n",
      "Generation #11800: fitness = 2\n",
      "min = 2, max = 19, mean = 9.77, std = 3.3729957011535014\n",
      "Generation #11900: fitness = 2\n",
      "min = 2, max = 16, mean = 7.7, std = 2.889636655359978\n",
      "Generation #12000: fitness = 2\n",
      "min = 2, max = 17, mean = 9.26, std = 3.1068311830545285\n",
      "Generation #12100: fitness = 2\n",
      "min = 2, max = 16, mean = 8.16, std = 2.7810789273229912\n",
      "Generation #12200: fitness = 2\n",
      "min = 2, max = 15, mean = 7.7, std = 2.7404379212089447\n",
      "Generation #12300: fitness = 2\n",
      "min = 2, max = 16, mean = 8.52, std = 2.539606268695996\n",
      "Generation #12400: fitness = 2\n",
      "min = 2, max = 16, mean = 8.4, std = 3.1240998703626617\n",
      "-----Stale after 1500 generations, bumping Pm and reducing Pr-----\n",
      "Pm = 0.75, Pr = 0.3228504075000001\n",
      "Generation #12500: fitness = 2\n",
      "min = 2, max = 14, mean = 7.35, std = 2.706935536727833\n",
      "Generation #12600: fitness = 2\n",
      "min = 2, max = 15, mean = 8.41, std = 2.7680137282896555\n",
      "Generation #12700: fitness = 2\n",
      "min = 2, max = 15, mean = 8.35, std = 2.7472713735632306\n",
      "Generation #12800: fitness = 2\n",
      "min = 2, max = 15, mean = 8.17, std = 2.8073296920739472\n",
      "Generation #12900: fitness = 2\n",
      "min = 2, max = 12, mean = 7.32, std = 2.533298245371042\n",
      "Generation #13000: fitness = 2\n",
      "min = 2, max = 19, mean = 8.79, std = 2.936988253296223\n",
      "Generation #13100: fitness = 2\n",
      "min = 2, max = 14, mean = 8.01, std = 2.711069899504622\n",
      "Generation #13200: fitness = 2\n",
      "min = 2, max = 14, mean = 6.96, std = 2.6150334605889842\n",
      "Generation #13300: fitness = 2\n",
      "min = 2, max = 14, mean = 9.04, std = 2.7199999999999998\n",
      "Generation #13400: fitness = 2\n",
      "min = 2, max = 17, mean = 9.22, std = 3.1002580537755238\n",
      "Generation #13500: fitness = 2\n",
      "min = 2, max = 19, mean = 7.81, std = 3.3487161719082734\n",
      "Generation #13600: fitness = 2\n",
      "min = 2, max = 15, mean = 6.39, std = 2.3575198832671593\n",
      "Generation #13700: fitness = 2\n",
      "min = 2, max = 14, mean = 7.33, std = 2.88809625878363\n",
      "Generation #13800: fitness = 2\n",
      "min = 2, max = 18, mean = 8.71, std = 3.2993787293973997\n",
      "### Total # of generations = 13879, fitness = 0 ###\n"
     ]
    },
    {
     "data": {
      "image/png": "[encoded data removed]",
      "text/plain": [
       "<Figure size 288x288 with 1 Axes>"
      ]
     },
     "metadata": {
      "needs_background": "light"
     },
     "output_type": "display_data"
    }
   ],
   "source": [
    "SolveSudokuFromCSV('sudoku_ex5.csv')"
   ]
  },
  {
   "cell_type": "markdown",
   "id": "e6c50ab3",
   "metadata": {},
   "source": [
    "There is room for improvement. This algorithm was not able to solve a sudoku catalogued as \"hard\" (see below) in less than 100K generations, even with the stale improvement. We tried different crossover techniques and even a different genotype definition, but there wasn't a noticeable improvement. One option could be to come up with a better preprocessing technique to try to take some of the difficulty away from the genetic algorithm. Trying a different fitness function might also be worth the try."
   ]
  },
  {
   "cell_type": "code",
   "execution_count": null,
   "id": "bae21e8e",
   "metadata": {},
   "outputs": [],
   "source": [
    "# Omitting output to keep the file size small\n",
    "SolveSudokuFromCSV('sudoku_hard.csv')"
   ]
  }
 ],
 "metadata": {
  "kernelspec": {
   "display_name": "Python 3 (ipykernel)",
   "language": "python",
   "name": "python3"
  },
  "language_info": {
   "codemirror_mode": {
    "name": "ipython",
    "version": 3
   },
   "file_extension": ".py",
   "mimetype": "text/x-python",
   "name": "python",
   "nbconvert_exporter": "python",
   "pygments_lexer": "ipython3",
   "version": "3.9.7"
  }
 },
 "nbformat": 4,
 "nbformat_minor": 5
}
