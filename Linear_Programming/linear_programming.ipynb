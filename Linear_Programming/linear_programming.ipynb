{
 "cells": [
  {
   "cell_type": "code",
   "execution_count": 1,
   "metadata": {},
   "outputs": [],
   "source": [
    "from scipy.optimize import linprog\n",
    "import numpy as np"
   ]
  },
  {
   "cell_type": "markdown",
   "metadata": {},
   "source": [
    "# Using scipy linear programming"
   ]
  },
  {
   "cell_type": "markdown",
   "metadata": {},
   "source": [
    "### Problem 1\n",
    "$$ Max 20000p + 15000m $$\n",
    "$$ S.A. $$\n",
    "$$ p + 2m <= 80 $$\n",
    "$$ 3p + 2m <= 120 $$\n",
    "$$ p,m >= 0 $$"
   ]
  },
  {
   "cell_type": "code",
   "execution_count": 2,
   "metadata": {},
   "outputs": [
    {
     "data": {
      "text/plain": [
       "     con: array([], dtype=float64)\n",
       "     fun: -849999.9999361178\n",
       " message: 'Optimization terminated successfully.'\n",
       "     nit: 7\n",
       "   slack: array([6.07792572e-09, 9.00556074e-09])\n",
       "  status: 0\n",
       " success: True\n",
       "       x: array([20., 30.])"
      ]
     },
     "execution_count": 2,
     "metadata": {},
     "output_type": "execute_result"
    }
   ],
   "source": [
    "A = [[1,2],\n",
    "     [3,2]]\n",
    "b = [ 80,\n",
    "     120]\n",
    "bounds = [[0,None],\n",
    "          [0,None]]\n",
    "c = [-20000,-15000]\n",
    "\n",
    "linprog(c, A_ub=A, b_ub=b, A_eq=None, b_eq=None,bounds=bounds)"
   ]
  },
  {
   "cell_type": "markdown",
   "metadata": {},
   "source": [
    "### Problem 2"
   ]
  },
  {
   "cell_type": "code",
   "execution_count": 151,
   "metadata": {},
   "outputs": [
    {
     "data": {
      "text/plain": [
       "     con: array([], dtype=float64)\n",
       "     fun: -74.99999999924661\n",
       " message: 'Optimization terminated successfully.'\n",
       "     nit: 5\n",
       "   slack: array([9.59587965e-10, 3.00000000e+01])\n",
       "  status: 0\n",
       " success: True\n",
       "       x: array([5.00000000e+00, 2.69595412e-12])"
      ]
     },
     "execution_count": 151,
     "metadata": {},
     "output_type": "execute_result"
    }
   ],
   "source": [
    "A = [[20, 30],\n",
    "[10, 10],\n",
    "]\n",
    "\n",
    "b = [ 100,\n",
    "     80]\n",
    "bounds = [[0,None],\n",
    "          [0,None]]\n",
    "c = [-15,-10]\n",
    "\n",
    "linprog(c, A_ub=A, b_ub=b, A_eq=None, b_eq=None,bounds=bounds)"
   ]
  },
  {
   "cell_type": "markdown",
   "metadata": {},
   "source": [
    "### Problem 3"
   ]
  },
  {
   "cell_type": "code",
   "execution_count": 8,
   "metadata": {},
   "outputs": [
    {
     "data": {
      "text/plain": [
       "     con: array([], dtype=float64)\n",
       "     fun: 99.99999999909525\n",
       " message: 'Optimization terminated successfully.'\n",
       "     nit: 4\n",
       "   slack: array([-1.42650336e-10, -8.71409611e-11])\n",
       "  status: 0\n",
       " success: True\n",
       "       x: array([2.5, 2.5])"
      ]
     },
     "execution_count": 8,
     "metadata": {},
     "output_type": "execute_result"
    }
   ],
   "source": [
    "A = [[-1, -5],\n",
    "[-5, -1],\n",
    "]\n",
    "\n",
    "\n",
    "b = [ -15,\n",
    "     -15]\n",
    "bounds = [[0,None],\n",
    "          [0,None]]\n",
    "c = [10,30]\n",
    "\n",
    "linprog(c, A_ub=A, b_ub=b, A_eq=None, b_eq=None,bounds=bounds)"
   ]
  },
  {
   "cell_type": "markdown",
   "metadata": {},
   "source": [
    "### Problem 4"
   ]
  },
  {
   "cell_type": "code",
   "execution_count": 11,
   "metadata": {},
   "outputs": [
    {
     "data": {
      "text/plain": [
       "     con: array([], dtype=float64)\n",
       "     fun: -1674.999999592936\n",
       " message: 'Optimization terminated successfully.'\n",
       "     nit: 5\n",
       "   slack: array([1.47108494e-07, 2.50000000e+02, 9.54440793e-08, 2.50000000e+02])\n",
       "  status: 0\n",
       " success: True\n",
       "       x: array([149.99999997,  99.99999997])"
      ]
     },
     "execution_count": 11,
     "metadata": {},
     "output_type": "execute_result"
    }
   ],
   "source": [
    "A = [[2, 3],\n",
    "[1, 1],\n",
    "[2, 1],\n",
    "[-1, -1]\n",
    "]\n",
    "\n",
    "\n",
    "b = [ 600,\n",
    "     500,\n",
    "     400,\n",
    "     0]\n",
    "bounds = [[None,None],\n",
    "          [None,None]]\n",
    "c = [-6.5,-7]\n",
    "\n",
    "linprog(c, A_ub=A, b_ub=b, A_eq=None, b_eq=None,bounds=bounds)"
   ]
  },
  {
   "cell_type": "markdown",
   "metadata": {},
   "source": [
    "### Problem 5"
   ]
  },
  {
   "cell_type": "code",
   "execution_count": 25,
   "metadata": {},
   "outputs": [
    {
     "name": "stdout",
     "output_type": "stream",
     "text": [
      "True\n"
     ]
    },
    {
     "data": {
      "text/plain": [
       "     con: array([], dtype=float64)\n",
       "     fun: 79.99999999972553\n",
       " message: 'Optimization terminated successfully.'\n",
       "     nit: 5\n",
       "   slack: array([-1.66636482e-09,  1.00000000e+00])\n",
       "  status: 0\n",
       " success: True\n",
       "       x: array([8.00000000e+00, 2.67255883e-12])"
      ]
     },
     "execution_count": 25,
     "metadata": {},
     "output_type": "execute_result"
    }
   ],
   "source": [
    "A = [[-50, -40],\n",
    "[1, 1],\n",
    "]\n",
    "\n",
    "\n",
    "b = [ -400,\n",
    "     9]\n",
    "bounds = [[0,10],\n",
    "          [0,8]]\n",
    "c = [10,30]\n",
    "linprog(c, A_ub=A, b_ub=b, A_eq=None, b_eq=None,bounds=bounds)"
   ]
  },
  {
   "cell_type": "markdown",
   "metadata": {},
   "source": [
    "# Using own implementation of swarm particle optimization"
   ]
  },
  {
   "cell_type": "code",
   "execution_count": 214,
   "metadata": {},
   "outputs": [
    {
     "name": "stdout",
     "output_type": "stream",
     "text": [
      "The autoreload extension is already loaded. To reload it, use:\n",
      "  %reload_ext autoreload\n"
     ]
    }
   ],
   "source": [
    "%load_ext autoreload\n",
    "%autoreload 2"
   ]
  },
  {
   "cell_type": "code",
   "execution_count": 215,
   "metadata": {},
   "outputs": [],
   "source": [
    "def objectiveFunction(X, C):\n",
    "    \n",
    "    return C@X"
   ]
  },
  {
   "cell_type": "code",
   "execution_count": 220,
   "metadata": {},
   "outputs": [],
   "source": [
    "from particle_swarm_optimization import particle_optimization"
   ]
  },
  {
   "cell_type": "markdown",
   "metadata": {},
   "source": [
    "### Problem 1"
   ]
  },
  {
   "cell_type": "code",
   "execution_count": 221,
   "metadata": {},
   "outputs": [
    {
     "data": {
      "text/plain": [
       "{'x': array([20.80471893, 29.66308999]),\n",
       " 'nit': 200,\n",
       " 'fun': -853540.7281789249,\n",
       " 'nfev': 6031}"
      ]
     },
     "execution_count": 221,
     "metadata": {},
     "output_type": "execute_result"
    }
   ],
   "source": [
    "A = [[1,2],\n",
    "     [3,2]]\n",
    "b = [ 80,\n",
    "     120]\n",
    "bounds = [[0,None],\n",
    "          [0,None]]\n",
    "c = [-20000,-15000]\n",
    "\n",
    "particle_optimization(objectiveFunction, bounds, args = [c], A_ub=A, b_ub=b, A_eq=None, b_eq=None,)"
   ]
  },
  {
   "cell_type": "markdown",
   "metadata": {},
   "source": [
    "### Problem 2"
   ]
  },
  {
   "cell_type": "code",
   "execution_count": 226,
   "metadata": {},
   "outputs": [
    {
     "data": {
      "text/plain": [
       "{'x': array([2.18110708, 1.71051204]),\n",
       " 'nit': 200,\n",
       " 'fun': 279.1894877423293,\n",
       " 'nfev': 6031}"
      ]
     },
     "execution_count": 226,
     "metadata": {},
     "output_type": "execute_result"
    }
   ],
   "source": [
    "A = [[20, 30],\n",
    "[10, 10],\n",
    "]\n",
    "\n",
    "b = [ 100,\n",
    "     80]\n",
    "bounds = [[0,None],\n",
    "          [0,None]]\n",
    "c = [-15,-10]\n",
    "\n",
    "particle_optimization(objectiveFunction,bounds,args = [c], A_ub=A, b_ub=b, A_eq=None, b_eq=None)"
   ]
  },
  {
   "cell_type": "markdown",
   "metadata": {},
   "source": [
    "### Problem 3\n"
   ]
  },
  {
   "cell_type": "code",
   "execution_count": 228,
   "metadata": {},
   "outputs": [
    {
     "data": {
      "text/plain": [
       "{'x': array([4.73604322, 3.65995151]),\n",
       " 'nit': 200,\n",
       " 'fun': 195.360292149434,\n",
       " 'nfev': 6031}"
      ]
     },
     "execution_count": 228,
     "metadata": {},
     "output_type": "execute_result"
    }
   ],
   "source": [
    "A = [[-1, -5],\n",
    "[-5, -1]]\n",
    "\n",
    "\n",
    "b = [ -15,\n",
    "     -15]\n",
    "bounds = [[0,None],\n",
    "          [0,None]]\n",
    "c = [10,30]\n",
    "\n",
    "\n",
    "particle_optimization(objectiveFunction,bounds,args = [c], A_ub=A, b_ub=b, A_eq=None, b_eq=None)"
   ]
  },
  {
   "cell_type": "code",
   "execution_count": 229,
   "metadata": {},
   "outputs": [
    {
     "data": {
      "text/plain": [
       "{'x': array([94.87180215, 94.9459101 ]),\n",
       " 'nit': 200,\n",
       " 'fun': -1267.7880851932478,\n",
       " 'nfev': 6031}"
      ]
     },
     "execution_count": 229,
     "metadata": {},
     "output_type": "execute_result"
    }
   ],
   "source": [
    "A = [[2, 3],\n",
    "[1, 1],\n",
    "[2, 1],\n",
    "[-1, -1]\n",
    "]\n",
    "\n",
    "\n",
    "b = [ 600,\n",
    "     500,\n",
    "     400,\n",
    "     0]\n",
    "bounds = [[None,None],\n",
    "          [None,None]]\n",
    "c = [-6.5,-7]\n",
    "\n",
    "particle_optimization(objectiveFunction,bounds,args = [c], A_ub=A, b_ub=b, A_eq=None, b_eq=None)"
   ]
  },
  {
   "cell_type": "markdown",
   "metadata": {},
   "source": [
    "### Problem 5"
   ]
  },
  {
   "cell_type": "code",
   "execution_count": 224,
   "metadata": {},
   "outputs": [
    {
     "data": {
      "text/plain": [
       "{'x': array([6.41559721, 2.08927714]),\n",
       " 'nit': 200,\n",
       " 'fun': 980.3052833111572,\n",
       " 'nfev': 6031}"
      ]
     },
     "execution_count": 224,
     "metadata": {},
     "output_type": "execute_result"
    }
   ],
   "source": [
    "A = [[-50, -40],\n",
    "[1, 1]]\n",
    "\n",
    "b = [ -400, 9]\n",
    "bounds = [[0,10],\n",
    "          [0,8]]\n",
    "c = [10,30]\n",
    "particle_optimization(objectiveFunction,bounds,args = [c], A_ub=A, b_ub=b, A_eq=None, b_eq=None)"
   ]
  },
  {
   "cell_type": "code",
   "execution_count": null,
   "metadata": {},
   "outputs": [],
   "source": []
  },
  {
   "cell_type": "code",
   "execution_count": null,
   "metadata": {},
   "outputs": [],
   "source": []
  }
 ],
 "metadata": {
  "kernelspec": {
   "display_name": "Python 3.8.10 64-bit",
   "language": "python",
   "name": "python3"
  },
  "language_info": {
   "codemirror_mode": {
    "name": "ipython",
    "version": 3
   },
   "file_extension": ".py",
   "mimetype": "text/x-python",
   "name": "python",
   "nbconvert_exporter": "python",
   "pygments_lexer": "ipython3",
   "version": "3.8.10"
  },
  "vscode": {
   "interpreter": {
    "hash": "916dbcbb3f70747c44a77c7bcd40155683ae19c65e1c03b4aa3499c5328201f1"
   }
  }
 },
 "nbformat": 4,
 "nbformat_minor": 4
}
